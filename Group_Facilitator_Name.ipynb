{
 "cells": [
  {
   "cell_type": "markdown",
   "id": "6b9eca5a",
   "metadata": {},
   "source": [
    "## Lending Club Case Study"
   ]
  },
  {
   "cell_type": "code",
   "execution_count": 1,
   "id": "edf126b5",
   "metadata": {},
   "outputs": [],
   "source": [
    "# #import the libraries\n",
    "import pandas as pd\n",
    "import numpy as np\n",
    "import matplotlib.pyplot as plt\n",
    "%matplotlib inline"
   ]
  },
  {
   "cell_type": "code",
   "execution_count": 2,
   "id": "53a5bf2c",
   "metadata": {},
   "outputs": [
    {
     "data": {
      "text/html": [
       "<div>\n",
       "<style scoped>\n",
       "    .dataframe tbody tr th:only-of-type {\n",
       "        vertical-align: middle;\n",
       "    }\n",
       "\n",
       "    .dataframe tbody tr th {\n",
       "        vertical-align: top;\n",
       "    }\n",
       "\n",
       "    .dataframe thead th {\n",
       "        text-align: right;\n",
       "    }\n",
       "</style>\n",
       "<table border=\"1\" class=\"dataframe\">\n",
       "  <thead>\n",
       "    <tr style=\"text-align: right;\">\n",
       "      <th></th>\n",
       "      <th>id</th>\n",
       "      <th>member_id</th>\n",
       "      <th>loan_amnt</th>\n",
       "      <th>funded_amnt</th>\n",
       "      <th>funded_amnt_inv</th>\n",
       "      <th>term</th>\n",
       "      <th>int_rate</th>\n",
       "      <th>installment</th>\n",
       "      <th>grade</th>\n",
       "      <th>sub_grade</th>\n",
       "      <th>...</th>\n",
       "      <th>num_tl_90g_dpd_24m</th>\n",
       "      <th>num_tl_op_past_12m</th>\n",
       "      <th>pct_tl_nvr_dlq</th>\n",
       "      <th>percent_bc_gt_75</th>\n",
       "      <th>pub_rec_bankruptcies</th>\n",
       "      <th>tax_liens</th>\n",
       "      <th>tot_hi_cred_lim</th>\n",
       "      <th>total_bal_ex_mort</th>\n",
       "      <th>total_bc_limit</th>\n",
       "      <th>total_il_high_credit_limit</th>\n",
       "    </tr>\n",
       "  </thead>\n",
       "  <tbody>\n",
       "    <tr>\n",
       "      <th>0</th>\n",
       "      <td>1077501</td>\n",
       "      <td>1296599</td>\n",
       "      <td>5000</td>\n",
       "      <td>5000</td>\n",
       "      <td>4975.0</td>\n",
       "      <td>36 months</td>\n",
       "      <td>10.65%</td>\n",
       "      <td>162.87</td>\n",
       "      <td>B</td>\n",
       "      <td>B2</td>\n",
       "      <td>...</td>\n",
       "      <td>NaN</td>\n",
       "      <td>NaN</td>\n",
       "      <td>NaN</td>\n",
       "      <td>NaN</td>\n",
       "      <td>0.0</td>\n",
       "      <td>0.0</td>\n",
       "      <td>NaN</td>\n",
       "      <td>NaN</td>\n",
       "      <td>NaN</td>\n",
       "      <td>NaN</td>\n",
       "    </tr>\n",
       "    <tr>\n",
       "      <th>1</th>\n",
       "      <td>1077430</td>\n",
       "      <td>1314167</td>\n",
       "      <td>2500</td>\n",
       "      <td>2500</td>\n",
       "      <td>2500.0</td>\n",
       "      <td>60 months</td>\n",
       "      <td>15.27%</td>\n",
       "      <td>59.83</td>\n",
       "      <td>C</td>\n",
       "      <td>C4</td>\n",
       "      <td>...</td>\n",
       "      <td>NaN</td>\n",
       "      <td>NaN</td>\n",
       "      <td>NaN</td>\n",
       "      <td>NaN</td>\n",
       "      <td>0.0</td>\n",
       "      <td>0.0</td>\n",
       "      <td>NaN</td>\n",
       "      <td>NaN</td>\n",
       "      <td>NaN</td>\n",
       "      <td>NaN</td>\n",
       "    </tr>\n",
       "    <tr>\n",
       "      <th>2</th>\n",
       "      <td>1077175</td>\n",
       "      <td>1313524</td>\n",
       "      <td>2400</td>\n",
       "      <td>2400</td>\n",
       "      <td>2400.0</td>\n",
       "      <td>36 months</td>\n",
       "      <td>15.96%</td>\n",
       "      <td>84.33</td>\n",
       "      <td>C</td>\n",
       "      <td>C5</td>\n",
       "      <td>...</td>\n",
       "      <td>NaN</td>\n",
       "      <td>NaN</td>\n",
       "      <td>NaN</td>\n",
       "      <td>NaN</td>\n",
       "      <td>0.0</td>\n",
       "      <td>0.0</td>\n",
       "      <td>NaN</td>\n",
       "      <td>NaN</td>\n",
       "      <td>NaN</td>\n",
       "      <td>NaN</td>\n",
       "    </tr>\n",
       "    <tr>\n",
       "      <th>3</th>\n",
       "      <td>1076863</td>\n",
       "      <td>1277178</td>\n",
       "      <td>10000</td>\n",
       "      <td>10000</td>\n",
       "      <td>10000.0</td>\n",
       "      <td>36 months</td>\n",
       "      <td>13.49%</td>\n",
       "      <td>339.31</td>\n",
       "      <td>C</td>\n",
       "      <td>C1</td>\n",
       "      <td>...</td>\n",
       "      <td>NaN</td>\n",
       "      <td>NaN</td>\n",
       "      <td>NaN</td>\n",
       "      <td>NaN</td>\n",
       "      <td>0.0</td>\n",
       "      <td>0.0</td>\n",
       "      <td>NaN</td>\n",
       "      <td>NaN</td>\n",
       "      <td>NaN</td>\n",
       "      <td>NaN</td>\n",
       "    </tr>\n",
       "    <tr>\n",
       "      <th>4</th>\n",
       "      <td>1075358</td>\n",
       "      <td>1311748</td>\n",
       "      <td>3000</td>\n",
       "      <td>3000</td>\n",
       "      <td>3000.0</td>\n",
       "      <td>60 months</td>\n",
       "      <td>12.69%</td>\n",
       "      <td>67.79</td>\n",
       "      <td>B</td>\n",
       "      <td>B5</td>\n",
       "      <td>...</td>\n",
       "      <td>NaN</td>\n",
       "      <td>NaN</td>\n",
       "      <td>NaN</td>\n",
       "      <td>NaN</td>\n",
       "      <td>0.0</td>\n",
       "      <td>0.0</td>\n",
       "      <td>NaN</td>\n",
       "      <td>NaN</td>\n",
       "      <td>NaN</td>\n",
       "      <td>NaN</td>\n",
       "    </tr>\n",
       "  </tbody>\n",
       "</table>\n",
       "<p>5 rows × 111 columns</p>\n",
       "</div>"
      ],
      "text/plain": [
       "        id  member_id  loan_amnt  funded_amnt  funded_amnt_inv        term  \\\n",
       "0  1077501    1296599       5000         5000           4975.0   36 months   \n",
       "1  1077430    1314167       2500         2500           2500.0   60 months   \n",
       "2  1077175    1313524       2400         2400           2400.0   36 months   \n",
       "3  1076863    1277178      10000        10000          10000.0   36 months   \n",
       "4  1075358    1311748       3000         3000           3000.0   60 months   \n",
       "\n",
       "  int_rate  installment grade sub_grade  ... num_tl_90g_dpd_24m  \\\n",
       "0   10.65%       162.87     B        B2  ...                NaN   \n",
       "1   15.27%        59.83     C        C4  ...                NaN   \n",
       "2   15.96%        84.33     C        C5  ...                NaN   \n",
       "3   13.49%       339.31     C        C1  ...                NaN   \n",
       "4   12.69%        67.79     B        B5  ...                NaN   \n",
       "\n",
       "  num_tl_op_past_12m pct_tl_nvr_dlq  percent_bc_gt_75 pub_rec_bankruptcies  \\\n",
       "0                NaN            NaN               NaN                  0.0   \n",
       "1                NaN            NaN               NaN                  0.0   \n",
       "2                NaN            NaN               NaN                  0.0   \n",
       "3                NaN            NaN               NaN                  0.0   \n",
       "4                NaN            NaN               NaN                  0.0   \n",
       "\n",
       "  tax_liens tot_hi_cred_lim total_bal_ex_mort total_bc_limit  \\\n",
       "0       0.0             NaN               NaN            NaN   \n",
       "1       0.0             NaN               NaN            NaN   \n",
       "2       0.0             NaN               NaN            NaN   \n",
       "3       0.0             NaN               NaN            NaN   \n",
       "4       0.0             NaN               NaN            NaN   \n",
       "\n",
       "  total_il_high_credit_limit  \n",
       "0                        NaN  \n",
       "1                        NaN  \n",
       "2                        NaN  \n",
       "3                        NaN  \n",
       "4                        NaN  \n",
       "\n",
       "[5 rows x 111 columns]"
      ]
     },
     "execution_count": 2,
     "metadata": {},
     "output_type": "execute_result"
    }
   ],
   "source": [
    "#read the dataset and check the first five rows\n",
    "dataset_loan = pd.read_csv(\"D:/ML&AI/Lending Club Case Study/loan/loan.csv\", low_memory=False)\n",
    "\n",
    "dataset_loan.head()"
   ]
  },
  {
   "cell_type": "code",
   "execution_count": 3,
   "id": "b3f0f6b3",
   "metadata": {},
   "outputs": [
    {
     "data": {
      "text/plain": [
       "(39717, 111)"
      ]
     },
     "execution_count": 3,
     "metadata": {},
     "output_type": "execute_result"
    }
   ],
   "source": [
    "#Check the shape of the dataframe\n",
    "dataset_loan.shape"
   ]
  },
  {
   "cell_type": "markdown",
   "id": "5e9bedee",
   "metadata": {},
   "source": [
    "### Data Handling and Cleaning"
   ]
  },
  {
   "cell_type": "code",
   "execution_count": 4,
   "id": "11dab5bc",
   "metadata": {},
   "outputs": [
    {
     "name": "stdout",
     "output_type": "stream",
     "text": [
      "<class 'pandas.core.frame.DataFrame'>\n",
      "RangeIndex: 39717 entries, 0 to 39716\n",
      "Columns: 111 entries, id to total_il_high_credit_limit\n",
      "dtypes: float64(74), int64(13), object(24)\n",
      "memory usage: 33.6+ MB\n"
     ]
    }
   ],
   "source": [
    "#Check the datatypes of all the columns of the dataframe\n",
    "dataset_loan.info()"
   ]
  },
  {
   "cell_type": "markdown",
   "id": "59734a2f",
   "metadata": {},
   "source": [
    "#### Missing Value Treatment"
   ]
  },
  {
   "cell_type": "code",
   "execution_count": 5,
   "id": "ab74f631",
   "metadata": {},
   "outputs": [
    {
     "data": {
      "text/plain": [
       "id                                0\n",
       "member_id                         0\n",
       "loan_amnt                         0\n",
       "funded_amnt                       0\n",
       "funded_amnt_inv                   0\n",
       "                              ...  \n",
       "tax_liens                        39\n",
       "tot_hi_cred_lim               39717\n",
       "total_bal_ex_mort             39717\n",
       "total_bc_limit                39717\n",
       "total_il_high_credit_limit    39717\n",
       "Length: 111, dtype: int64"
      ]
     },
     "execution_count": 5,
     "metadata": {},
     "output_type": "execute_result"
    }
   ],
   "source": [
    "#Check the number of null values in the columns\n",
    "dataset_loan.isnull().sum()"
   ]
  },
  {
   "cell_type": "markdown",
   "id": "36a26da3",
   "metadata": {},
   "source": [
    "Handling missing values from the dataset\n",
    " - Taget the columns having missing values\n",
    " - drop from the records"
   ]
  },
  {
   "cell_type": "code",
   "execution_count": 6,
   "id": "9a386e0a",
   "metadata": {},
   "outputs": [
    {
     "data": {
      "text/plain": [
       "(39717, 57)"
      ]
     },
     "execution_count": 6,
     "metadata": {},
     "output_type": "execute_result"
    }
   ],
   "source": [
    "#Drop the columns having all null values of the dataset\n",
    "dataset_loan.dropna(how='all', axis=1, inplace=True)\n",
    "\n",
    "#Check the shape of the dataframe\n",
    "dataset_loan.shape"
   ]
  },
  {
   "cell_type": "code",
   "execution_count": 7,
   "id": "74255145",
   "metadata": {
    "scrolled": true
   },
   "outputs": [
    {
     "data": {
      "text/plain": [
       "id                                0\n",
       "member_id                         0\n",
       "loan_amnt                         0\n",
       "funded_amnt                       0\n",
       "funded_amnt_inv                   0\n",
       "term                              0\n",
       "int_rate                          0\n",
       "installment                       0\n",
       "grade                             0\n",
       "sub_grade                         0\n",
       "emp_title                      2459\n",
       "emp_length                     1075\n",
       "home_ownership                    0\n",
       "annual_inc                        0\n",
       "verification_status               0\n",
       "issue_d                           0\n",
       "loan_status                       0\n",
       "pymnt_plan                        0\n",
       "url                               0\n",
       "desc                          12940\n",
       "purpose                           0\n",
       "title                            11\n",
       "zip_code                          0\n",
       "addr_state                        0\n",
       "dti                               0\n",
       "delinq_2yrs                       0\n",
       "earliest_cr_line                  0\n",
       "inq_last_6mths                    0\n",
       "mths_since_last_delinq        25682\n",
       "mths_since_last_record        36931\n",
       "open_acc                          0\n",
       "pub_rec                           0\n",
       "revol_bal                         0\n",
       "revol_util                       50\n",
       "total_acc                         0\n",
       "initial_list_status               0\n",
       "out_prncp                         0\n",
       "out_prncp_inv                     0\n",
       "total_pymnt                       0\n",
       "total_pymnt_inv                   0\n",
       "total_rec_prncp                   0\n",
       "total_rec_int                     0\n",
       "total_rec_late_fee                0\n",
       "recoveries                        0\n",
       "collection_recovery_fee           0\n",
       "last_pymnt_d                     71\n",
       "last_pymnt_amnt                   0\n",
       "next_pymnt_d                  38577\n",
       "last_credit_pull_d                2\n",
       "collections_12_mths_ex_med       56\n",
       "policy_code                       0\n",
       "application_type                  0\n",
       "acc_now_delinq                    0\n",
       "chargeoff_within_12_mths         56\n",
       "delinq_amnt                       0\n",
       "pub_rec_bankruptcies            697\n",
       "tax_liens                        39\n",
       "dtype: int64"
      ]
     },
     "execution_count": 7,
     "metadata": {},
     "output_type": "execute_result"
    }
   ],
   "source": [
    "#Check the number of null values in the columns\n",
    "dataset_loan.isnull().sum()"
   ]
  },
  {
   "cell_type": "code",
   "execution_count": 8,
   "id": "825808b0",
   "metadata": {},
   "outputs": [
    {
     "data": {
      "text/plain": [
       "(39717, 50)"
      ]
     },
     "execution_count": 8,
     "metadata": {},
     "output_type": "execute_result"
    }
   ],
   "source": [
    "#Drop the columns having almost null values from loan dataset\n",
    "dataset_loan.drop(columns=[\"title\", \"emp_title\", \"desc\", \"mths_since_last_delinq\", \"mths_since_last_record\", \"next_pymnt_d\", \"collections_12_mths_ex_med\"], axis=1, inplace=True)\n",
    "\n",
    "#Check the shape of the dataframe\n",
    "dataset_loan.shape"
   ]
  },
  {
   "cell_type": "code",
   "execution_count": 9,
   "id": "d261c453",
   "metadata": {},
   "outputs": [
    {
     "data": {
      "text/plain": [
       "10+ years    8879\n",
       "< 1 year     4583\n",
       "2 years      4388\n",
       "3 years      4095\n",
       "4 years      3436\n",
       "5 years      3282\n",
       "1 year       3240\n",
       "6 years      2229\n",
       "7 years      1773\n",
       "8 years      1479\n",
       "9 years      1258\n",
       "Name: emp_length, dtype: int64"
      ]
     },
     "execution_count": 9,
     "metadata": {},
     "output_type": "execute_result"
    }
   ],
   "source": [
    "#Check the most common value in the emp_length column\n",
    "dataset_loan['emp_length'].value_counts()"
   ]
  },
  {
   "cell_type": "code",
   "execution_count": 10,
   "id": "44274146",
   "metadata": {},
   "outputs": [],
   "source": [
    "#Fill up the nulls in the emp_length column with the above value\n",
    "dataset_loan['emp_length'] = dataset_loan['emp_length'].fillna(dataset_loan['emp_length'].mode()[0])"
   ]
  },
  {
   "cell_type": "code",
   "execution_count": 11,
   "id": "1d8614c6",
   "metadata": {},
   "outputs": [
    {
     "data": {
      "text/plain": [
       "0"
      ]
     },
     "execution_count": 11,
     "metadata": {},
     "output_type": "execute_result"
    }
   ],
   "source": [
    "#Check the nulls in the emp_length column again to cross-verify\n",
    "dataset_loan['emp_length'].isnull().sum()"
   ]
  },
  {
   "cell_type": "code",
   "execution_count": 12,
   "id": "3e4f332d",
   "metadata": {},
   "outputs": [],
   "source": [
    "dataset_loan['emp_length'] = dataset_loan['emp_length'].replace('< 1','0', regex=True)"
   ]
  },
  {
   "cell_type": "code",
   "execution_count": 13,
   "id": "6d2d1dcb",
   "metadata": {},
   "outputs": [],
   "source": [
    "#clean the emp_length\n",
    "dataset_loan['emp_length']=dataset_loan['emp_length'].apply(lambda x: x.split(\" \")[0])"
   ]
  },
  {
   "cell_type": "code",
   "execution_count": 14,
   "id": "8747694e",
   "metadata": {},
   "outputs": [],
   "source": [
    "#Fill up the nulls in the pub_rec_bankruptcies column\n",
    "dataset_loan['pub_rec_bankruptcies'] = dataset_loan['pub_rec_bankruptcies'].fillna(0)"
   ]
  },
  {
   "cell_type": "code",
   "execution_count": 15,
   "id": "40bca8e1",
   "metadata": {},
   "outputs": [],
   "source": [
    "#Drop the row having null values\n",
    "dataset_loan = dataset_loan.dropna(subset=['tax_liens', 'chargeoff_within_12_mths', 'last_credit_pull_d', 'last_pymnt_d', 'revol_util'])"
   ]
  },
  {
   "cell_type": "code",
   "execution_count": 16,
   "id": "819a5713",
   "metadata": {},
   "outputs": [
    {
     "data": {
      "text/plain": [
       "(39542, 50)"
      ]
     },
     "execution_count": 16,
     "metadata": {},
     "output_type": "execute_result"
    }
   ],
   "source": [
    "# Resetting the indices using df.reset_index()\n",
    "dataset_loan = dataset_loan.reset_index(drop=True)\n",
    "\n",
    "#Check the shape of the dataframe\n",
    "dataset_loan.shape"
   ]
  },
  {
   "cell_type": "code",
   "execution_count": 17,
   "id": "4b9705b3",
   "metadata": {},
   "outputs": [],
   "source": [
    "#Drop the columns from dataset\n",
    "dataset_loan.drop(columns=[\"id\", \"member_id\", \"addr_state\", \"zip_code\", \"url\", \"pymnt_plan\", \"delinq_amnt\", \"chargeoff_within_12_mths\", \"acc_now_delinq\", \"application_type\", \"policy_code\", \"open_acc\", \"inq_last_6mths\", \"initial_list_status\", \"out_prncp\", \"out_prncp_inv\"], axis=1, inplace=True)"
   ]
  },
  {
   "cell_type": "code",
   "execution_count": 18,
   "id": "419e88d7",
   "metadata": {},
   "outputs": [],
   "source": [
    "#clean the term and change into int\n",
    "dataset_loan['term']=dataset_loan['term'].apply(lambda x: int(x.split(\" \")[1]))"
   ]
  },
  {
   "cell_type": "code",
   "execution_count": 19,
   "id": "721f4e1f",
   "metadata": {},
   "outputs": [],
   "source": [
    "# remove '%' sign and change into float\n",
    "def remove_perc(val):\n",
    " return float(val.replace(\"%\",\"\"))"
   ]
  },
  {
   "cell_type": "code",
   "execution_count": 20,
   "id": "bc84cc88",
   "metadata": {},
   "outputs": [],
   "source": [
    "#clean the int_rate\n",
    "dataset_loan['int_rate']=dataset_loan['int_rate'].apply(remove_perc)"
   ]
  },
  {
   "cell_type": "code",
   "execution_count": 21,
   "id": "4ecf52a2",
   "metadata": {},
   "outputs": [],
   "source": [
    "#clean the revol_util\n",
    "dataset_loan['revol_util']=dataset_loan['revol_util'].apply(remove_perc)"
   ]
  },
  {
   "cell_type": "code",
   "execution_count": 22,
   "id": "2fdff1c2",
   "metadata": {},
   "outputs": [
    {
     "data": {
      "text/html": [
       "<div>\n",
       "<style scoped>\n",
       "    .dataframe tbody tr th:only-of-type {\n",
       "        vertical-align: middle;\n",
       "    }\n",
       "\n",
       "    .dataframe tbody tr th {\n",
       "        vertical-align: top;\n",
       "    }\n",
       "\n",
       "    .dataframe thead th {\n",
       "        text-align: right;\n",
       "    }\n",
       "</style>\n",
       "<table border=\"1\" class=\"dataframe\">\n",
       "  <thead>\n",
       "    <tr style=\"text-align: right;\">\n",
       "      <th></th>\n",
       "      <th>loan_amnt</th>\n",
       "      <th>funded_amnt</th>\n",
       "      <th>funded_amnt_inv</th>\n",
       "      <th>term</th>\n",
       "      <th>int_rate</th>\n",
       "      <th>installment</th>\n",
       "      <th>grade</th>\n",
       "      <th>sub_grade</th>\n",
       "      <th>emp_length</th>\n",
       "      <th>home_ownership</th>\n",
       "      <th>...</th>\n",
       "      <th>total_rec_prncp</th>\n",
       "      <th>total_rec_int</th>\n",
       "      <th>total_rec_late_fee</th>\n",
       "      <th>recoveries</th>\n",
       "      <th>collection_recovery_fee</th>\n",
       "      <th>last_pymnt_d</th>\n",
       "      <th>last_pymnt_amnt</th>\n",
       "      <th>last_credit_pull_d</th>\n",
       "      <th>pub_rec_bankruptcies</th>\n",
       "      <th>tax_liens</th>\n",
       "    </tr>\n",
       "  </thead>\n",
       "  <tbody>\n",
       "    <tr>\n",
       "      <th>0</th>\n",
       "      <td>5000</td>\n",
       "      <td>5000</td>\n",
       "      <td>4975.0</td>\n",
       "      <td>36</td>\n",
       "      <td>10.65</td>\n",
       "      <td>162.87</td>\n",
       "      <td>B</td>\n",
       "      <td>B2</td>\n",
       "      <td>10+</td>\n",
       "      <td>RENT</td>\n",
       "      <td>...</td>\n",
       "      <td>5000.00</td>\n",
       "      <td>863.16</td>\n",
       "      <td>0.00</td>\n",
       "      <td>0.00</td>\n",
       "      <td>0.00</td>\n",
       "      <td>Jan-15</td>\n",
       "      <td>171.62</td>\n",
       "      <td>May-16</td>\n",
       "      <td>0.0</td>\n",
       "      <td>0.0</td>\n",
       "    </tr>\n",
       "    <tr>\n",
       "      <th>1</th>\n",
       "      <td>2500</td>\n",
       "      <td>2500</td>\n",
       "      <td>2500.0</td>\n",
       "      <td>60</td>\n",
       "      <td>15.27</td>\n",
       "      <td>59.83</td>\n",
       "      <td>C</td>\n",
       "      <td>C4</td>\n",
       "      <td>0</td>\n",
       "      <td>RENT</td>\n",
       "      <td>...</td>\n",
       "      <td>456.46</td>\n",
       "      <td>435.17</td>\n",
       "      <td>0.00</td>\n",
       "      <td>117.08</td>\n",
       "      <td>1.11</td>\n",
       "      <td>Apr-13</td>\n",
       "      <td>119.66</td>\n",
       "      <td>Sep-13</td>\n",
       "      <td>0.0</td>\n",
       "      <td>0.0</td>\n",
       "    </tr>\n",
       "    <tr>\n",
       "      <th>2</th>\n",
       "      <td>2400</td>\n",
       "      <td>2400</td>\n",
       "      <td>2400.0</td>\n",
       "      <td>36</td>\n",
       "      <td>15.96</td>\n",
       "      <td>84.33</td>\n",
       "      <td>C</td>\n",
       "      <td>C5</td>\n",
       "      <td>10+</td>\n",
       "      <td>RENT</td>\n",
       "      <td>...</td>\n",
       "      <td>2400.00</td>\n",
       "      <td>605.67</td>\n",
       "      <td>0.00</td>\n",
       "      <td>0.00</td>\n",
       "      <td>0.00</td>\n",
       "      <td>Jun-14</td>\n",
       "      <td>649.91</td>\n",
       "      <td>May-16</td>\n",
       "      <td>0.0</td>\n",
       "      <td>0.0</td>\n",
       "    </tr>\n",
       "    <tr>\n",
       "      <th>3</th>\n",
       "      <td>10000</td>\n",
       "      <td>10000</td>\n",
       "      <td>10000.0</td>\n",
       "      <td>36</td>\n",
       "      <td>13.49</td>\n",
       "      <td>339.31</td>\n",
       "      <td>C</td>\n",
       "      <td>C1</td>\n",
       "      <td>10+</td>\n",
       "      <td>RENT</td>\n",
       "      <td>...</td>\n",
       "      <td>10000.00</td>\n",
       "      <td>2214.92</td>\n",
       "      <td>16.97</td>\n",
       "      <td>0.00</td>\n",
       "      <td>0.00</td>\n",
       "      <td>Jan-15</td>\n",
       "      <td>357.48</td>\n",
       "      <td>Apr-16</td>\n",
       "      <td>0.0</td>\n",
       "      <td>0.0</td>\n",
       "    </tr>\n",
       "    <tr>\n",
       "      <th>4</th>\n",
       "      <td>3000</td>\n",
       "      <td>3000</td>\n",
       "      <td>3000.0</td>\n",
       "      <td>60</td>\n",
       "      <td>12.69</td>\n",
       "      <td>67.79</td>\n",
       "      <td>B</td>\n",
       "      <td>B5</td>\n",
       "      <td>1</td>\n",
       "      <td>RENT</td>\n",
       "      <td>...</td>\n",
       "      <td>2475.94</td>\n",
       "      <td>1037.39</td>\n",
       "      <td>0.00</td>\n",
       "      <td>0.00</td>\n",
       "      <td>0.00</td>\n",
       "      <td>May-16</td>\n",
       "      <td>67.79</td>\n",
       "      <td>May-16</td>\n",
       "      <td>0.0</td>\n",
       "      <td>0.0</td>\n",
       "    </tr>\n",
       "  </tbody>\n",
       "</table>\n",
       "<p>5 rows × 34 columns</p>\n",
       "</div>"
      ],
      "text/plain": [
       "   loan_amnt  funded_amnt  funded_amnt_inv  term  int_rate  installment grade  \\\n",
       "0       5000         5000           4975.0    36     10.65       162.87     B   \n",
       "1       2500         2500           2500.0    60     15.27        59.83     C   \n",
       "2       2400         2400           2400.0    36     15.96        84.33     C   \n",
       "3      10000        10000          10000.0    36     13.49       339.31     C   \n",
       "4       3000         3000           3000.0    60     12.69        67.79     B   \n",
       "\n",
       "  sub_grade emp_length home_ownership  ...  total_rec_prncp total_rec_int  \\\n",
       "0        B2        10+           RENT  ...          5000.00        863.16   \n",
       "1        C4          0           RENT  ...           456.46        435.17   \n",
       "2        C5        10+           RENT  ...          2400.00        605.67   \n",
       "3        C1        10+           RENT  ...         10000.00       2214.92   \n",
       "4        B5          1           RENT  ...          2475.94       1037.39   \n",
       "\n",
       "  total_rec_late_fee recoveries collection_recovery_fee  last_pymnt_d  \\\n",
       "0               0.00       0.00                    0.00        Jan-15   \n",
       "1               0.00     117.08                    1.11        Apr-13   \n",
       "2               0.00       0.00                    0.00        Jun-14   \n",
       "3              16.97       0.00                    0.00        Jan-15   \n",
       "4               0.00       0.00                    0.00        May-16   \n",
       "\n",
       "   last_pymnt_amnt last_credit_pull_d  pub_rec_bankruptcies  tax_liens  \n",
       "0           171.62             May-16                   0.0        0.0  \n",
       "1           119.66             Sep-13                   0.0        0.0  \n",
       "2           649.91             May-16                   0.0        0.0  \n",
       "3           357.48             Apr-16                   0.0        0.0  \n",
       "4            67.79             May-16                   0.0        0.0  \n",
       "\n",
       "[5 rows x 34 columns]"
      ]
     },
     "execution_count": 22,
     "metadata": {},
     "output_type": "execute_result"
    }
   ],
   "source": [
    "dataset_loan.head()"
   ]
  },
  {
   "cell_type": "code",
   "execution_count": 23,
   "id": "6e0f37f5",
   "metadata": {},
   "outputs": [
    {
     "data": {
      "text/html": [
       "<div>\n",
       "<style scoped>\n",
       "    .dataframe tbody tr th:only-of-type {\n",
       "        vertical-align: middle;\n",
       "    }\n",
       "\n",
       "    .dataframe tbody tr th {\n",
       "        vertical-align: top;\n",
       "    }\n",
       "\n",
       "    .dataframe thead th {\n",
       "        text-align: right;\n",
       "    }\n",
       "</style>\n",
       "<table border=\"1\" class=\"dataframe\">\n",
       "  <thead>\n",
       "    <tr style=\"text-align: right;\">\n",
       "      <th></th>\n",
       "      <th>loan_amnt</th>\n",
       "      <th>funded_amnt</th>\n",
       "      <th>funded_amnt_inv</th>\n",
       "      <th>term</th>\n",
       "      <th>int_rate</th>\n",
       "      <th>installment</th>\n",
       "      <th>grade</th>\n",
       "      <th>sub_grade</th>\n",
       "      <th>emp_length</th>\n",
       "      <th>home_ownership</th>\n",
       "      <th>...</th>\n",
       "      <th>total_rec_prncp</th>\n",
       "      <th>total_rec_int</th>\n",
       "      <th>total_rec_late_fee</th>\n",
       "      <th>recoveries</th>\n",
       "      <th>collection_recovery_fee</th>\n",
       "      <th>last_pymnt_d</th>\n",
       "      <th>last_pymnt_amnt</th>\n",
       "      <th>last_credit_pull_d</th>\n",
       "      <th>pub_rec_bankruptcies</th>\n",
       "      <th>tax_liens</th>\n",
       "    </tr>\n",
       "  </thead>\n",
       "  <tbody>\n",
       "  </tbody>\n",
       "</table>\n",
       "<p>0 rows × 34 columns</p>\n",
       "</div>"
      ],
      "text/plain": [
       "Empty DataFrame\n",
       "Columns: [loan_amnt, funded_amnt, funded_amnt_inv, term, int_rate, installment, grade, sub_grade, emp_length, home_ownership, annual_inc, verification_status, issue_d, loan_status, purpose, dti, delinq_2yrs, earliest_cr_line, pub_rec, revol_bal, revol_util, total_acc, total_pymnt, total_pymnt_inv, total_rec_prncp, total_rec_int, total_rec_late_fee, recoveries, collection_recovery_fee, last_pymnt_d, last_pymnt_amnt, last_credit_pull_d, pub_rec_bankruptcies, tax_liens]\n",
       "Index: []\n",
       "\n",
       "[0 rows x 34 columns]"
      ]
     },
     "execution_count": 23,
     "metadata": {},
     "output_type": "execute_result"
    }
   ],
   "source": [
    "#Perform the basic sanity checks with loan amount and funded_amnt\n",
    "dataset_loan[(dataset_loan.funded_amnt > dataset_loan.loan_amnt)]"
   ]
  },
  {
   "cell_type": "markdown",
   "id": "aff988e9",
   "metadata": {},
   "source": [
    "#### Segmented univariate analysis"
   ]
  },
  {
   "cell_type": "code",
   "execution_count": 24,
   "id": "da4ad262",
   "metadata": {},
   "outputs": [
    {
     "data": {
      "text/plain": [
       "(5537, 34)"
      ]
     },
     "execution_count": 24,
     "metadata": {},
     "output_type": "execute_result"
    }
   ],
   "source": [
    "#Define defaulted dataset\n",
    "default_dataset_loan = dataset_loan[dataset_loan.loan_status==\"Charged Off\"]\n",
    "\n",
    "#Check the shape of the dataframe\n",
    "default_dataset_loan.shape"
   ]
  },
  {
   "cell_type": "code",
   "execution_count": 25,
   "id": "acaa3f74",
   "metadata": {},
   "outputs": [
    {
     "name": "stdout",
     "output_type": "stream",
     "text": [
      "<class 'pandas.core.frame.DataFrame'>\n",
      "Int64Index: 5537 entries, 1 to 39531\n",
      "Data columns (total 34 columns):\n",
      " #   Column                   Non-Null Count  Dtype  \n",
      "---  ------                   --------------  -----  \n",
      " 0   loan_amnt                5537 non-null   int64  \n",
      " 1   funded_amnt              5537 non-null   int64  \n",
      " 2   funded_amnt_inv          5537 non-null   float64\n",
      " 3   term                     5537 non-null   int64  \n",
      " 4   int_rate                 5537 non-null   float64\n",
      " 5   installment              5537 non-null   float64\n",
      " 6   grade                    5537 non-null   object \n",
      " 7   sub_grade                5537 non-null   object \n",
      " 8   emp_length               5537 non-null   object \n",
      " 9   home_ownership           5537 non-null   object \n",
      " 10  annual_inc               5537 non-null   float64\n",
      " 11  verification_status      5537 non-null   object \n",
      " 12  issue_d                  5537 non-null   object \n",
      " 13  loan_status              5537 non-null   object \n",
      " 14  purpose                  5537 non-null   object \n",
      " 15  dti                      5537 non-null   float64\n",
      " 16  delinq_2yrs              5537 non-null   int64  \n",
      " 17  earliest_cr_line         5537 non-null   object \n",
      " 18  pub_rec                  5537 non-null   int64  \n",
      " 19  revol_bal                5537 non-null   int64  \n",
      " 20  revol_util               5537 non-null   float64\n",
      " 21  total_acc                5537 non-null   int64  \n",
      " 22  total_pymnt              5537 non-null   float64\n",
      " 23  total_pymnt_inv          5537 non-null   float64\n",
      " 24  total_rec_prncp          5537 non-null   float64\n",
      " 25  total_rec_int            5537 non-null   float64\n",
      " 26  total_rec_late_fee       5537 non-null   float64\n",
      " 27  recoveries               5537 non-null   float64\n",
      " 28  collection_recovery_fee  5537 non-null   float64\n",
      " 29  last_pymnt_d             5537 non-null   object \n",
      " 30  last_pymnt_amnt          5537 non-null   float64\n",
      " 31  last_credit_pull_d       5537 non-null   object \n",
      " 32  pub_rec_bankruptcies     5537 non-null   float64\n",
      " 33  tax_liens                5537 non-null   float64\n",
      "dtypes: float64(16), int64(7), object(11)\n",
      "memory usage: 1.5+ MB\n"
     ]
    }
   ],
   "source": [
    "#Check the datatypes of all the columns of the dataframe\n",
    "default_dataset_loan.info()"
   ]
  },
  {
   "cell_type": "code",
   "execution_count": 26,
   "id": "2ea9081b",
   "metadata": {},
   "outputs": [
    {
     "data": {
      "text/plain": [
       "(32865, 34)"
      ]
     },
     "execution_count": 26,
     "metadata": {},
     "output_type": "execute_result"
    }
   ],
   "source": [
    "#Define non-defaulted dataset\n",
    "non_default_dataset_loan = dataset_loan[dataset_loan.loan_status==\"Fully Paid\"]\n",
    "\n",
    "#Check the shape of the dataframe\n",
    "non_default_dataset_loan.shape"
   ]
  },
  {
   "cell_type": "code",
   "execution_count": 27,
   "id": "d4b7c7ba",
   "metadata": {},
   "outputs": [
    {
     "name": "stdout",
     "output_type": "stream",
     "text": [
      "<class 'pandas.core.frame.DataFrame'>\n",
      "Int64Index: 32865 entries, 0 to 39541\n",
      "Data columns (total 34 columns):\n",
      " #   Column                   Non-Null Count  Dtype  \n",
      "---  ------                   --------------  -----  \n",
      " 0   loan_amnt                32865 non-null  int64  \n",
      " 1   funded_amnt              32865 non-null  int64  \n",
      " 2   funded_amnt_inv          32865 non-null  float64\n",
      " 3   term                     32865 non-null  int64  \n",
      " 4   int_rate                 32865 non-null  float64\n",
      " 5   installment              32865 non-null  float64\n",
      " 6   grade                    32865 non-null  object \n",
      " 7   sub_grade                32865 non-null  object \n",
      " 8   emp_length               32865 non-null  object \n",
      " 9   home_ownership           32865 non-null  object \n",
      " 10  annual_inc               32865 non-null  float64\n",
      " 11  verification_status      32865 non-null  object \n",
      " 12  issue_d                  32865 non-null  object \n",
      " 13  loan_status              32865 non-null  object \n",
      " 14  purpose                  32865 non-null  object \n",
      " 15  dti                      32865 non-null  float64\n",
      " 16  delinq_2yrs              32865 non-null  int64  \n",
      " 17  earliest_cr_line         32865 non-null  object \n",
      " 18  pub_rec                  32865 non-null  int64  \n",
      " 19  revol_bal                32865 non-null  int64  \n",
      " 20  revol_util               32865 non-null  float64\n",
      " 21  total_acc                32865 non-null  int64  \n",
      " 22  total_pymnt              32865 non-null  float64\n",
      " 23  total_pymnt_inv          32865 non-null  float64\n",
      " 24  total_rec_prncp          32865 non-null  float64\n",
      " 25  total_rec_int            32865 non-null  float64\n",
      " 26  total_rec_late_fee       32865 non-null  float64\n",
      " 27  recoveries               32865 non-null  float64\n",
      " 28  collection_recovery_fee  32865 non-null  float64\n",
      " 29  last_pymnt_d             32865 non-null  object \n",
      " 30  last_pymnt_amnt          32865 non-null  float64\n",
      " 31  last_credit_pull_d       32865 non-null  object \n",
      " 32  pub_rec_bankruptcies     32865 non-null  float64\n",
      " 33  tax_liens                32865 non-null  float64\n",
      "dtypes: float64(16), int64(7), object(11)\n",
      "memory usage: 8.8+ MB\n"
     ]
    }
   ],
   "source": [
    "#Check the datatypes of all the columns of the dataframe\n",
    "non_default_dataset_loan.info()"
   ]
  },
  {
   "cell_type": "markdown",
   "id": "83ad6075",
   "metadata": {},
   "source": [
    "#### Outliers Analysis Using Boxplot"
   ]
  },
  {
   "cell_type": "code",
   "execution_count": 28,
   "id": "f151b0a3",
   "metadata": {},
   "outputs": [
    {
     "data": {
      "image/png": "[encoded data removed]",
      "text/plain": [
       "<Figure size 432x288 with 1 Axes>"
      ]
     },
     "metadata": {
      "needs_background": "light"
     },
     "output_type": "display_data"
    }
   ],
   "source": [
    "#Create a box plot for default data funded_amnt column\n",
    "plt.boxplot(default_dataset_loan.funded_amnt)\n",
    "plt.show()"
   ]
  },
  {
   "cell_type": "code",
   "execution_count": 29,
   "id": "d7ba8e9d",
   "metadata": {},
   "outputs": [
    {
     "data": {
      "text/plain": [
       "count     5537.000000\n",
       "mean     11815.689904\n",
       "std       7751.444356\n",
       "min        900.000000\n",
       "25%       5600.000000\n",
       "50%      10000.000000\n",
       "75%      16000.000000\n",
       "max      35000.000000\n",
       "Name: funded_amnt, dtype: float64"
      ]
     },
     "execution_count": 29,
     "metadata": {},
     "output_type": "execute_result"
    }
   ],
   "source": [
    "default_dataset_loan.funded_amnt.describe()"
   ]
  },
  {
   "cell_type": "code",
   "execution_count": 30,
   "id": "215e52ca",
   "metadata": {},
   "outputs": [
    {
     "data": {
      "text/html": [
       "<div>\n",
       "<style scoped>\n",
       "    .dataframe tbody tr th:only-of-type {\n",
       "        vertical-align: middle;\n",
       "    }\n",
       "\n",
       "    .dataframe tbody tr th {\n",
       "        vertical-align: top;\n",
       "    }\n",
       "\n",
       "    .dataframe thead th {\n",
       "        text-align: right;\n",
       "    }\n",
       "</style>\n",
       "<table border=\"1\" class=\"dataframe\">\n",
       "  <thead>\n",
       "    <tr style=\"text-align: right;\">\n",
       "      <th></th>\n",
       "      <th>loan_amnt</th>\n",
       "      <th>funded_amnt</th>\n",
       "      <th>funded_amnt_inv</th>\n",
       "      <th>term</th>\n",
       "      <th>int_rate</th>\n",
       "      <th>installment</th>\n",
       "      <th>grade</th>\n",
       "      <th>sub_grade</th>\n",
       "      <th>emp_length</th>\n",
       "      <th>home_ownership</th>\n",
       "      <th>...</th>\n",
       "      <th>total_rec_prncp</th>\n",
       "      <th>total_rec_int</th>\n",
       "      <th>total_rec_late_fee</th>\n",
       "      <th>recoveries</th>\n",
       "      <th>collection_recovery_fee</th>\n",
       "      <th>last_pymnt_d</th>\n",
       "      <th>last_pymnt_amnt</th>\n",
       "      <th>last_credit_pull_d</th>\n",
       "      <th>pub_rec_bankruptcies</th>\n",
       "      <th>tax_liens</th>\n",
       "    </tr>\n",
       "  </thead>\n",
       "  <tbody>\n",
       "    <tr>\n",
       "      <th>886</th>\n",
       "      <td>35000</td>\n",
       "      <td>35000</td>\n",
       "      <td>35000.00000</td>\n",
       "      <td>60</td>\n",
       "      <td>20.89</td>\n",
       "      <td>944.71</td>\n",
       "      <td>F</td>\n",
       "      <td>F1</td>\n",
       "      <td>5</td>\n",
       "      <td>RENT</td>\n",
       "      <td>...</td>\n",
       "      <td>20871.91</td>\n",
       "      <td>19689.10</td>\n",
       "      <td>94.480000</td>\n",
       "      <td>2529.18</td>\n",
       "      <td>455.2524</td>\n",
       "      <td>Sep-15</td>\n",
       "      <td>944.71</td>\n",
       "      <td>Dec-15</td>\n",
       "      <td>0.0</td>\n",
       "      <td>0.0</td>\n",
       "    </tr>\n",
       "    <tr>\n",
       "      <th>1084</th>\n",
       "      <td>34475</td>\n",
       "      <td>34475</td>\n",
       "      <td>34475.00000</td>\n",
       "      <td>60</td>\n",
       "      <td>14.27</td>\n",
       "      <td>807.01</td>\n",
       "      <td>C</td>\n",
       "      <td>C2</td>\n",
       "      <td>8</td>\n",
       "      <td>RENT</td>\n",
       "      <td>...</td>\n",
       "      <td>9008.49</td>\n",
       "      <td>8735.22</td>\n",
       "      <td>0.000000</td>\n",
       "      <td>3490.18</td>\n",
       "      <td>628.2324</td>\n",
       "      <td>Mar-14</td>\n",
       "      <td>200.52</td>\n",
       "      <td>Mar-14</td>\n",
       "      <td>0.0</td>\n",
       "      <td>0.0</td>\n",
       "    </tr>\n",
       "    <tr>\n",
       "      <th>1181</th>\n",
       "      <td>35000</td>\n",
       "      <td>35000</td>\n",
       "      <td>34975.00000</td>\n",
       "      <td>60</td>\n",
       "      <td>19.42</td>\n",
       "      <td>916.03</td>\n",
       "      <td>E</td>\n",
       "      <td>E3</td>\n",
       "      <td>3</td>\n",
       "      <td>MORTGAGE</td>\n",
       "      <td>...</td>\n",
       "      <td>17517.39</td>\n",
       "      <td>16360.38</td>\n",
       "      <td>0.000000</td>\n",
       "      <td>3216.34</td>\n",
       "      <td>578.9412</td>\n",
       "      <td>Jan-15</td>\n",
       "      <td>916.03</td>\n",
       "      <td>Jun-15</td>\n",
       "      <td>0.0</td>\n",
       "      <td>0.0</td>\n",
       "    </tr>\n",
       "    <tr>\n",
       "      <th>1581</th>\n",
       "      <td>35000</td>\n",
       "      <td>35000</td>\n",
       "      <td>34960.89318</td>\n",
       "      <td>60</td>\n",
       "      <td>15.96</td>\n",
       "      <td>850.39</td>\n",
       "      <td>C</td>\n",
       "      <td>C5</td>\n",
       "      <td>10+</td>\n",
       "      <td>MORTGAGE</td>\n",
       "      <td>...</td>\n",
       "      <td>8325.72</td>\n",
       "      <td>10176.34</td>\n",
       "      <td>0.000000</td>\n",
       "      <td>16560.06</td>\n",
       "      <td>2891.6319</td>\n",
       "      <td>Feb-14</td>\n",
       "      <td>1284.97</td>\n",
       "      <td>May-16</td>\n",
       "      <td>0.0</td>\n",
       "      <td>0.0</td>\n",
       "    </tr>\n",
       "    <tr>\n",
       "      <th>1594</th>\n",
       "      <td>35000</td>\n",
       "      <td>35000</td>\n",
       "      <td>34900.00000</td>\n",
       "      <td>60</td>\n",
       "      <td>12.42</td>\n",
       "      <td>786.01</td>\n",
       "      <td>B</td>\n",
       "      <td>B4</td>\n",
       "      <td>3</td>\n",
       "      <td>RENT</td>\n",
       "      <td>...</td>\n",
       "      <td>5382.07</td>\n",
       "      <td>4045.25</td>\n",
       "      <td>0.000000</td>\n",
       "      <td>0.00</td>\n",
       "      <td>0.0000</td>\n",
       "      <td>Dec-12</td>\n",
       "      <td>786.01</td>\n",
       "      <td>May-16</td>\n",
       "      <td>0.0</td>\n",
       "      <td>0.0</td>\n",
       "    </tr>\n",
       "    <tr>\n",
       "      <th>...</th>\n",
       "      <td>...</td>\n",
       "      <td>...</td>\n",
       "      <td>...</td>\n",
       "      <td>...</td>\n",
       "      <td>...</td>\n",
       "      <td>...</td>\n",
       "      <td>...</td>\n",
       "      <td>...</td>\n",
       "      <td>...</td>\n",
       "      <td>...</td>\n",
       "      <td>...</td>\n",
       "      <td>...</td>\n",
       "      <td>...</td>\n",
       "      <td>...</td>\n",
       "      <td>...</td>\n",
       "      <td>...</td>\n",
       "      <td>...</td>\n",
       "      <td>...</td>\n",
       "      <td>...</td>\n",
       "      <td>...</td>\n",
       "      <td>...</td>\n",
       "    </tr>\n",
       "    <tr>\n",
       "      <th>18981</th>\n",
       "      <td>35000</td>\n",
       "      <td>35000</td>\n",
       "      <td>12793.19224</td>\n",
       "      <td>60</td>\n",
       "      <td>16.02</td>\n",
       "      <td>851.51</td>\n",
       "      <td>D</td>\n",
       "      <td>D5</td>\n",
       "      <td>10+</td>\n",
       "      <td>MORTGAGE</td>\n",
       "      <td>...</td>\n",
       "      <td>6355.35</td>\n",
       "      <td>6850.38</td>\n",
       "      <td>0.000000</td>\n",
       "      <td>11.30</td>\n",
       "      <td>0.0000</td>\n",
       "      <td>Sep-12</td>\n",
       "      <td>3000.00</td>\n",
       "      <td>May-16</td>\n",
       "      <td>0.0</td>\n",
       "      <td>0.0</td>\n",
       "    </tr>\n",
       "    <tr>\n",
       "      <th>19096</th>\n",
       "      <td>35000</td>\n",
       "      <td>35000</td>\n",
       "      <td>21068.32935</td>\n",
       "      <td>60</td>\n",
       "      <td>16.77</td>\n",
       "      <td>865.52</td>\n",
       "      <td>E</td>\n",
       "      <td>E2</td>\n",
       "      <td>3</td>\n",
       "      <td>MORTGAGE</td>\n",
       "      <td>...</td>\n",
       "      <td>13893.20</td>\n",
       "      <td>12071.83</td>\n",
       "      <td>0.000000</td>\n",
       "      <td>3016.14</td>\n",
       "      <td>30.1614</td>\n",
       "      <td>Oct-13</td>\n",
       "      <td>32.06</td>\n",
       "      <td>Feb-14</td>\n",
       "      <td>0.0</td>\n",
       "      <td>0.0</td>\n",
       "    </tr>\n",
       "    <tr>\n",
       "      <th>19192</th>\n",
       "      <td>35000</td>\n",
       "      <td>35000</td>\n",
       "      <td>34993.26306</td>\n",
       "      <td>60</td>\n",
       "      <td>16.40</td>\n",
       "      <td>858.59</td>\n",
       "      <td>E</td>\n",
       "      <td>E1</td>\n",
       "      <td>10+</td>\n",
       "      <td>OWN</td>\n",
       "      <td>...</td>\n",
       "      <td>4042.09</td>\n",
       "      <td>5172.50</td>\n",
       "      <td>0.000000</td>\n",
       "      <td>1082.76</td>\n",
       "      <td>11.1100</td>\n",
       "      <td>May-12</td>\n",
       "      <td>200.33</td>\n",
       "      <td>Sep-12</td>\n",
       "      <td>0.0</td>\n",
       "      <td>0.0</td>\n",
       "    </tr>\n",
       "    <tr>\n",
       "      <th>19384</th>\n",
       "      <td>35000</td>\n",
       "      <td>35000</td>\n",
       "      <td>34969.06266</td>\n",
       "      <td>60</td>\n",
       "      <td>21.22</td>\n",
       "      <td>951.21</td>\n",
       "      <td>G</td>\n",
       "      <td>G4</td>\n",
       "      <td>7</td>\n",
       "      <td>MORTGAGE</td>\n",
       "      <td>...</td>\n",
       "      <td>4669.81</td>\n",
       "      <td>8601.99</td>\n",
       "      <td>44.940951</td>\n",
       "      <td>1057.68</td>\n",
       "      <td>11.7000</td>\n",
       "      <td>Jun-12</td>\n",
       "      <td>952.25</td>\n",
       "      <td>Oct-12</td>\n",
       "      <td>0.0</td>\n",
       "      <td>0.0</td>\n",
       "    </tr>\n",
       "    <tr>\n",
       "      <th>19532</th>\n",
       "      <td>35000</td>\n",
       "      <td>35000</td>\n",
       "      <td>34975.00000</td>\n",
       "      <td>60</td>\n",
       "      <td>17.51</td>\n",
       "      <td>879.47</td>\n",
       "      <td>E</td>\n",
       "      <td>E4</td>\n",
       "      <td>4</td>\n",
       "      <td>MORTGAGE</td>\n",
       "      <td>...</td>\n",
       "      <td>1504.80</td>\n",
       "      <td>2006.44</td>\n",
       "      <td>0.000000</td>\n",
       "      <td>0.00</td>\n",
       "      <td>0.0000</td>\n",
       "      <td>Jun-11</td>\n",
       "      <td>879.47</td>\n",
       "      <td>May-16</td>\n",
       "      <td>0.0</td>\n",
       "      <td>0.0</td>\n",
       "    </tr>\n",
       "  </tbody>\n",
       "</table>\n",
       "<p>148 rows × 34 columns</p>\n",
       "</div>"
      ],
      "text/plain": [
       "       loan_amnt  funded_amnt  funded_amnt_inv  term  int_rate  installment  \\\n",
       "886        35000        35000      35000.00000    60     20.89       944.71   \n",
       "1084       34475        34475      34475.00000    60     14.27       807.01   \n",
       "1181       35000        35000      34975.00000    60     19.42       916.03   \n",
       "1581       35000        35000      34960.89318    60     15.96       850.39   \n",
       "1594       35000        35000      34900.00000    60     12.42       786.01   \n",
       "...          ...          ...              ...   ...       ...          ...   \n",
       "18981      35000        35000      12793.19224    60     16.02       851.51   \n",
       "19096      35000        35000      21068.32935    60     16.77       865.52   \n",
       "19192      35000        35000      34993.26306    60     16.40       858.59   \n",
       "19384      35000        35000      34969.06266    60     21.22       951.21   \n",
       "19532      35000        35000      34975.00000    60     17.51       879.47   \n",
       "\n",
       "      grade sub_grade emp_length home_ownership  ...  total_rec_prncp  \\\n",
       "886       F        F1          5           RENT  ...         20871.91   \n",
       "1084      C        C2          8           RENT  ...          9008.49   \n",
       "1181      E        E3          3       MORTGAGE  ...         17517.39   \n",
       "1581      C        C5        10+       MORTGAGE  ...          8325.72   \n",
       "1594      B        B4          3           RENT  ...          5382.07   \n",
       "...     ...       ...        ...            ...  ...              ...   \n",
       "18981     D        D5        10+       MORTGAGE  ...          6355.35   \n",
       "19096     E        E2          3       MORTGAGE  ...         13893.20   \n",
       "19192     E        E1        10+            OWN  ...          4042.09   \n",
       "19384     G        G4          7       MORTGAGE  ...          4669.81   \n",
       "19532     E        E4          4       MORTGAGE  ...          1504.80   \n",
       "\n",
       "      total_rec_int total_rec_late_fee recoveries collection_recovery_fee  \\\n",
       "886        19689.10          94.480000    2529.18                455.2524   \n",
       "1084        8735.22           0.000000    3490.18                628.2324   \n",
       "1181       16360.38           0.000000    3216.34                578.9412   \n",
       "1581       10176.34           0.000000   16560.06               2891.6319   \n",
       "1594        4045.25           0.000000       0.00                  0.0000   \n",
       "...             ...                ...        ...                     ...   \n",
       "18981       6850.38           0.000000      11.30                  0.0000   \n",
       "19096      12071.83           0.000000    3016.14                 30.1614   \n",
       "19192       5172.50           0.000000    1082.76                 11.1100   \n",
       "19384       8601.99          44.940951    1057.68                 11.7000   \n",
       "19532       2006.44           0.000000       0.00                  0.0000   \n",
       "\n",
       "       last_pymnt_d  last_pymnt_amnt last_credit_pull_d  pub_rec_bankruptcies  \\\n",
       "886          Sep-15           944.71             Dec-15                   0.0   \n",
       "1084         Mar-14           200.52             Mar-14                   0.0   \n",
       "1181         Jan-15           916.03             Jun-15                   0.0   \n",
       "1581         Feb-14          1284.97             May-16                   0.0   \n",
       "1594         Dec-12           786.01             May-16                   0.0   \n",
       "...             ...              ...                ...                   ...   \n",
       "18981        Sep-12          3000.00             May-16                   0.0   \n",
       "19096        Oct-13            32.06             Feb-14                   0.0   \n",
       "19192        May-12           200.33             Sep-12                   0.0   \n",
       "19384        Jun-12           952.25             Oct-12                   0.0   \n",
       "19532        Jun-11           879.47             May-16                   0.0   \n",
       "\n",
       "       tax_liens  \n",
       "886          0.0  \n",
       "1084         0.0  \n",
       "1181         0.0  \n",
       "1581         0.0  \n",
       "1594         0.0  \n",
       "...          ...  \n",
       "18981        0.0  \n",
       "19096        0.0  \n",
       "19192        0.0  \n",
       "19384        0.0  \n",
       "19532        0.0  \n",
       "\n",
       "[148 rows x 34 columns]"
      ]
     },
     "execution_count": 30,
     "metadata": {},
     "output_type": "execute_result"
    }
   ],
   "source": [
    "#Check the funded_amnt with more than 30000\n",
    "default_dataset_loan[default_dataset_loan.funded_amnt > 30000]"
   ]
  },
  {
   "cell_type": "code",
   "execution_count": 31,
   "id": "90a507fd",
   "metadata": {},
   "outputs": [],
   "source": [
    "#Clean the funded_amnt column for default\n",
    "default_dataset_loan = default_dataset_loan[default_dataset_loan.funded_amnt < 30000]"
   ]
  },
  {
   "cell_type": "code",
   "execution_count": 32,
   "id": "e4a7ef26",
   "metadata": {},
   "outputs": [
    {
     "data": {
      "image/png": "[encoded data removed]",
      "text/plain": [
       "<Figure size 432x288 with 1 Axes>"
      ]
     },
     "metadata": {
      "needs_background": "light"
     },
     "output_type": "display_data"
    }
   ],
   "source": [
    "#Create a box plot for default data annual_inc column\n",
    "plt.boxplot(default_dataset_loan.annual_inc)\n",
    "plt.show()"
   ]
  },
  {
   "cell_type": "code",
   "execution_count": 33,
   "id": "1a082251",
   "metadata": {},
   "outputs": [
    {
     "data": {
      "text/plain": [
       "count    5.334000e+03\n",
       "mean     6.095275e+04\n",
       "std      4.664443e+04\n",
       "min      4.080000e+03\n",
       "25%      3.651960e+04\n",
       "50%      5.200000e+04\n",
       "75%      7.200000e+04\n",
       "max      1.250000e+06\n",
       "Name: annual_inc, dtype: float64"
      ]
     },
     "execution_count": 33,
     "metadata": {},
     "output_type": "execute_result"
    }
   ],
   "source": [
    "default_dataset_loan.annual_inc.describe()"
   ]
  },
  {
   "cell_type": "code",
   "execution_count": 34,
   "id": "607eea85",
   "metadata": {},
   "outputs": [
    {
     "data": {
      "text/html": [
       "<div>\n",
       "<style scoped>\n",
       "    .dataframe tbody tr th:only-of-type {\n",
       "        vertical-align: middle;\n",
       "    }\n",
       "\n",
       "    .dataframe tbody tr th {\n",
       "        vertical-align: top;\n",
       "    }\n",
       "\n",
       "    .dataframe thead th {\n",
       "        text-align: right;\n",
       "    }\n",
       "</style>\n",
       "<table border=\"1\" class=\"dataframe\">\n",
       "  <thead>\n",
       "    <tr style=\"text-align: right;\">\n",
       "      <th></th>\n",
       "      <th>loan_amnt</th>\n",
       "      <th>funded_amnt</th>\n",
       "      <th>funded_amnt_inv</th>\n",
       "      <th>term</th>\n",
       "      <th>int_rate</th>\n",
       "      <th>installment</th>\n",
       "      <th>grade</th>\n",
       "      <th>sub_grade</th>\n",
       "      <th>emp_length</th>\n",
       "      <th>home_ownership</th>\n",
       "      <th>...</th>\n",
       "      <th>total_rec_prncp</th>\n",
       "      <th>total_rec_int</th>\n",
       "      <th>total_rec_late_fee</th>\n",
       "      <th>recoveries</th>\n",
       "      <th>collection_recovery_fee</th>\n",
       "      <th>last_pymnt_d</th>\n",
       "      <th>last_pymnt_amnt</th>\n",
       "      <th>last_credit_pull_d</th>\n",
       "      <th>pub_rec_bankruptcies</th>\n",
       "      <th>tax_liens</th>\n",
       "    </tr>\n",
       "  </thead>\n",
       "  <tbody>\n",
       "    <tr>\n",
       "      <th>339</th>\n",
       "      <td>24000</td>\n",
       "      <td>24000</td>\n",
       "      <td>24000.000000</td>\n",
       "      <td>36</td>\n",
       "      <td>8.90</td>\n",
       "      <td>762.08</td>\n",
       "      <td>A</td>\n",
       "      <td>A5</td>\n",
       "      <td>10+</td>\n",
       "      <td>MORTGAGE</td>\n",
       "      <td>...</td>\n",
       "      <td>6036.95</td>\n",
       "      <td>1580.45</td>\n",
       "      <td>0.000000</td>\n",
       "      <td>1032.31</td>\n",
       "      <td>10.2500</td>\n",
       "      <td>Oct-12</td>\n",
       "      <td>762.08</td>\n",
       "      <td>Jun-15</td>\n",
       "      <td>0.0</td>\n",
       "      <td>0.0</td>\n",
       "    </tr>\n",
       "    <tr>\n",
       "      <th>559</th>\n",
       "      <td>28000</td>\n",
       "      <td>28000</td>\n",
       "      <td>28000.000000</td>\n",
       "      <td>36</td>\n",
       "      <td>7.90</td>\n",
       "      <td>876.13</td>\n",
       "      <td>A</td>\n",
       "      <td>A4</td>\n",
       "      <td>4</td>\n",
       "      <td>MORTGAGE</td>\n",
       "      <td>...</td>\n",
       "      <td>7125.17</td>\n",
       "      <td>1634.43</td>\n",
       "      <td>0.000000</td>\n",
       "      <td>1200.06</td>\n",
       "      <td>11.9400</td>\n",
       "      <td>Oct-12</td>\n",
       "      <td>876.13</td>\n",
       "      <td>Sep-14</td>\n",
       "      <td>0.0</td>\n",
       "      <td>0.0</td>\n",
       "    </tr>\n",
       "    <tr>\n",
       "      <th>595</th>\n",
       "      <td>22200</td>\n",
       "      <td>22200</td>\n",
       "      <td>22200.000000</td>\n",
       "      <td>36</td>\n",
       "      <td>19.42</td>\n",
       "      <td>818.49</td>\n",
       "      <td>E</td>\n",
       "      <td>E3</td>\n",
       "      <td>2</td>\n",
       "      <td>RENT</td>\n",
       "      <td>...</td>\n",
       "      <td>4940.21</td>\n",
       "      <td>3242.59</td>\n",
       "      <td>0.000000</td>\n",
       "      <td>991.81</td>\n",
       "      <td>9.8100</td>\n",
       "      <td>Oct-12</td>\n",
       "      <td>818.49</td>\n",
       "      <td>Mar-13</td>\n",
       "      <td>0.0</td>\n",
       "      <td>0.0</td>\n",
       "    </tr>\n",
       "    <tr>\n",
       "      <th>835</th>\n",
       "      <td>35000</td>\n",
       "      <td>22875</td>\n",
       "      <td>22875.000000</td>\n",
       "      <td>60</td>\n",
       "      <td>19.03</td>\n",
       "      <td>593.77</td>\n",
       "      <td>E</td>\n",
       "      <td>E2</td>\n",
       "      <td>4</td>\n",
       "      <td>MORTGAGE</td>\n",
       "      <td>...</td>\n",
       "      <td>6337.11</td>\n",
       "      <td>7318.78</td>\n",
       "      <td>0.000000</td>\n",
       "      <td>5420.08</td>\n",
       "      <td>921.4136</td>\n",
       "      <td>Dec-13</td>\n",
       "      <td>31.28</td>\n",
       "      <td>May-16</td>\n",
       "      <td>0.0</td>\n",
       "      <td>0.0</td>\n",
       "    </tr>\n",
       "    <tr>\n",
       "      <th>910</th>\n",
       "      <td>24000</td>\n",
       "      <td>24000</td>\n",
       "      <td>24000.000000</td>\n",
       "      <td>36</td>\n",
       "      <td>12.69</td>\n",
       "      <td>805.08</td>\n",
       "      <td>B</td>\n",
       "      <td>B5</td>\n",
       "      <td>1</td>\n",
       "      <td>RENT</td>\n",
       "      <td>...</td>\n",
       "      <td>23024.99</td>\n",
       "      <td>5136.52</td>\n",
       "      <td>80.492582</td>\n",
       "      <td>171.78</td>\n",
       "      <td>30.9204</td>\n",
       "      <td>Dec-14</td>\n",
       "      <td>805.08</td>\n",
       "      <td>Jul-15</td>\n",
       "      <td>0.0</td>\n",
       "      <td>0.0</td>\n",
       "    </tr>\n",
       "    <tr>\n",
       "      <th>...</th>\n",
       "      <td>...</td>\n",
       "      <td>...</td>\n",
       "      <td>...</td>\n",
       "      <td>...</td>\n",
       "      <td>...</td>\n",
       "      <td>...</td>\n",
       "      <td>...</td>\n",
       "      <td>...</td>\n",
       "      <td>...</td>\n",
       "      <td>...</td>\n",
       "      <td>...</td>\n",
       "      <td>...</td>\n",
       "      <td>...</td>\n",
       "      <td>...</td>\n",
       "      <td>...</td>\n",
       "      <td>...</td>\n",
       "      <td>...</td>\n",
       "      <td>...</td>\n",
       "      <td>...</td>\n",
       "      <td>...</td>\n",
       "      <td>...</td>\n",
       "    </tr>\n",
       "    <tr>\n",
       "      <th>39327</th>\n",
       "      <td>9000</td>\n",
       "      <td>9000</td>\n",
       "      <td>400.005559</td>\n",
       "      <td>36</td>\n",
       "      <td>9.64</td>\n",
       "      <td>288.89</td>\n",
       "      <td>B</td>\n",
       "      <td>B4</td>\n",
       "      <td>4</td>\n",
       "      <td>MORTGAGE</td>\n",
       "      <td>...</td>\n",
       "      <td>6233.81</td>\n",
       "      <td>1276.01</td>\n",
       "      <td>0.000000</td>\n",
       "      <td>0.00</td>\n",
       "      <td>0.0000</td>\n",
       "      <td>Mar-10</td>\n",
       "      <td>288.89</td>\n",
       "      <td>May-16</td>\n",
       "      <td>0.0</td>\n",
       "      <td>0.0</td>\n",
       "    </tr>\n",
       "    <tr>\n",
       "      <th>39358</th>\n",
       "      <td>22350</td>\n",
       "      <td>22350</td>\n",
       "      <td>486.128661</td>\n",
       "      <td>36</td>\n",
       "      <td>14.07</td>\n",
       "      <td>764.64</td>\n",
       "      <td>E</td>\n",
       "      <td>E3</td>\n",
       "      <td>1</td>\n",
       "      <td>OWN</td>\n",
       "      <td>...</td>\n",
       "      <td>10005.99</td>\n",
       "      <td>3756.00</td>\n",
       "      <td>0.000000</td>\n",
       "      <td>556.88</td>\n",
       "      <td>5.6000</td>\n",
       "      <td>Jul-09</td>\n",
       "      <td>764.64</td>\n",
       "      <td>Jul-15</td>\n",
       "      <td>0.0</td>\n",
       "      <td>0.0</td>\n",
       "    </tr>\n",
       "    <tr>\n",
       "      <th>39435</th>\n",
       "      <td>25000</td>\n",
       "      <td>25000</td>\n",
       "      <td>499.999401</td>\n",
       "      <td>36</td>\n",
       "      <td>9.01</td>\n",
       "      <td>795.11</td>\n",
       "      <td>B</td>\n",
       "      <td>B2</td>\n",
       "      <td>10+</td>\n",
       "      <td>MORTGAGE</td>\n",
       "      <td>...</td>\n",
       "      <td>8260.95</td>\n",
       "      <td>2100.38</td>\n",
       "      <td>0.000000</td>\n",
       "      <td>0.00</td>\n",
       "      <td>0.0000</td>\n",
       "      <td>Dec-08</td>\n",
       "      <td>821.25</td>\n",
       "      <td>May-16</td>\n",
       "      <td>0.0</td>\n",
       "      <td>0.0</td>\n",
       "    </tr>\n",
       "    <tr>\n",
       "      <th>39459</th>\n",
       "      <td>10000</td>\n",
       "      <td>10000</td>\n",
       "      <td>1825.004738</td>\n",
       "      <td>36</td>\n",
       "      <td>9.01</td>\n",
       "      <td>318.05</td>\n",
       "      <td>B</td>\n",
       "      <td>B2</td>\n",
       "      <td>0</td>\n",
       "      <td>MORTGAGE</td>\n",
       "      <td>...</td>\n",
       "      <td>3239.25</td>\n",
       "      <td>893.70</td>\n",
       "      <td>47.689526</td>\n",
       "      <td>304.18</td>\n",
       "      <td>3.0900</td>\n",
       "      <td>Jul-09</td>\n",
       "      <td>500.11</td>\n",
       "      <td>Jan-11</td>\n",
       "      <td>0.0</td>\n",
       "      <td>0.0</td>\n",
       "    </tr>\n",
       "    <tr>\n",
       "      <th>39460</th>\n",
       "      <td>15450</td>\n",
       "      <td>15450</td>\n",
       "      <td>3499.999720</td>\n",
       "      <td>36</td>\n",
       "      <td>10.91</td>\n",
       "      <td>505.16</td>\n",
       "      <td>C</td>\n",
       "      <td>C3</td>\n",
       "      <td>7</td>\n",
       "      <td>RENT</td>\n",
       "      <td>...</td>\n",
       "      <td>6316.30</td>\n",
       "      <td>4640.67</td>\n",
       "      <td>20.217640</td>\n",
       "      <td>1721.94</td>\n",
       "      <td>386.8474</td>\n",
       "      <td>Dec-11</td>\n",
       "      <td>100.20</td>\n",
       "      <td>Dec-11</td>\n",
       "      <td>0.0</td>\n",
       "      <td>0.0</td>\n",
       "    </tr>\n",
       "  </tbody>\n",
       "</table>\n",
       "<p>398 rows × 34 columns</p>\n",
       "</div>"
      ],
      "text/plain": [
       "       loan_amnt  funded_amnt  funded_amnt_inv  term  int_rate  installment  \\\n",
       "339        24000        24000     24000.000000    36      8.90       762.08   \n",
       "559        28000        28000     28000.000000    36      7.90       876.13   \n",
       "595        22200        22200     22200.000000    36     19.42       818.49   \n",
       "835        35000        22875     22875.000000    60     19.03       593.77   \n",
       "910        24000        24000     24000.000000    36     12.69       805.08   \n",
       "...          ...          ...              ...   ...       ...          ...   \n",
       "39327       9000         9000       400.005559    36      9.64       288.89   \n",
       "39358      22350        22350       486.128661    36     14.07       764.64   \n",
       "39435      25000        25000       499.999401    36      9.01       795.11   \n",
       "39459      10000        10000      1825.004738    36      9.01       318.05   \n",
       "39460      15450        15450      3499.999720    36     10.91       505.16   \n",
       "\n",
       "      grade sub_grade emp_length home_ownership  ...  total_rec_prncp  \\\n",
       "339       A        A5        10+       MORTGAGE  ...          6036.95   \n",
       "559       A        A4          4       MORTGAGE  ...          7125.17   \n",
       "595       E        E3          2           RENT  ...          4940.21   \n",
       "835       E        E2          4       MORTGAGE  ...          6337.11   \n",
       "910       B        B5          1           RENT  ...         23024.99   \n",
       "...     ...       ...        ...            ...  ...              ...   \n",
       "39327     B        B4          4       MORTGAGE  ...          6233.81   \n",
       "39358     E        E3          1            OWN  ...         10005.99   \n",
       "39435     B        B2        10+       MORTGAGE  ...          8260.95   \n",
       "39459     B        B2          0       MORTGAGE  ...          3239.25   \n",
       "39460     C        C3          7           RENT  ...          6316.30   \n",
       "\n",
       "      total_rec_int total_rec_late_fee recoveries collection_recovery_fee  \\\n",
       "339         1580.45           0.000000    1032.31                 10.2500   \n",
       "559         1634.43           0.000000    1200.06                 11.9400   \n",
       "595         3242.59           0.000000     991.81                  9.8100   \n",
       "835         7318.78           0.000000    5420.08                921.4136   \n",
       "910         5136.52          80.492582     171.78                 30.9204   \n",
       "...             ...                ...        ...                     ...   \n",
       "39327       1276.01           0.000000       0.00                  0.0000   \n",
       "39358       3756.00           0.000000     556.88                  5.6000   \n",
       "39435       2100.38           0.000000       0.00                  0.0000   \n",
       "39459        893.70          47.689526     304.18                  3.0900   \n",
       "39460       4640.67          20.217640    1721.94                386.8474   \n",
       "\n",
       "       last_pymnt_d  last_pymnt_amnt last_credit_pull_d  pub_rec_bankruptcies  \\\n",
       "339          Oct-12           762.08             Jun-15                   0.0   \n",
       "559          Oct-12           876.13             Sep-14                   0.0   \n",
       "595          Oct-12           818.49             Mar-13                   0.0   \n",
       "835          Dec-13            31.28             May-16                   0.0   \n",
       "910          Dec-14           805.08             Jul-15                   0.0   \n",
       "...             ...              ...                ...                   ...   \n",
       "39327        Mar-10           288.89             May-16                   0.0   \n",
       "39358        Jul-09           764.64             Jul-15                   0.0   \n",
       "39435        Dec-08           821.25             May-16                   0.0   \n",
       "39459        Jul-09           500.11             Jan-11                   0.0   \n",
       "39460        Dec-11           100.20             Dec-11                   0.0   \n",
       "\n",
       "       tax_liens  \n",
       "339          0.0  \n",
       "559          0.0  \n",
       "595          0.0  \n",
       "835          0.0  \n",
       "910          0.0  \n",
       "...          ...  \n",
       "39327        0.0  \n",
       "39358        0.0  \n",
       "39435        0.0  \n",
       "39459        0.0  \n",
       "39460        0.0  \n",
       "\n",
       "[398 rows x 34 columns]"
      ]
     },
     "execution_count": 34,
     "metadata": {},
     "output_type": "execute_result"
    }
   ],
   "source": [
    "#Check the annual_inc with more than 110000\n",
    "default_dataset_loan[default_dataset_loan.annual_inc > 110000]"
   ]
  },
  {
   "cell_type": "code",
   "execution_count": 35,
   "id": "0640ae79",
   "metadata": {},
   "outputs": [],
   "source": [
    "#Clean the annual_inc column for default\n",
    "default_dataset_loan = default_dataset_loan[default_dataset_loan.annual_inc < 110000]"
   ]
  },
  {
   "cell_type": "code",
   "execution_count": 36,
   "id": "e6800430",
   "metadata": {},
   "outputs": [
    {
     "data": {
      "image/png": "[encoded data removed]",
      "text/plain": [
       "<Figure size 432x288 with 1 Axes>"
      ]
     },
     "metadata": {
      "needs_background": "light"
     },
     "output_type": "display_data"
    }
   ],
   "source": [
    "#Create a histogram of the home_ownership\n",
    "plt.title(\"Home Ownership Column Analysis\\n\", fontdict={'fontsize': 20, 'fontweight' : 5, 'color' : 'Green'})\n",
    "plt.xlabel(\"Home Ownership\", fontdict={'fontsize': 12, 'fontweight' : 5, 'color' : 'Brown'})\n",
    "plt.ylabel(\"Count\", fontdict={'fontsize': 12, 'fontweight' : 5, 'color' : 'Brown'})\n",
    "plt.hist(default_dataset_loan.home_ownership)\n",
    "plt.show()"
   ]
  },
  {
   "cell_type": "code",
   "execution_count": 37,
   "id": "c627c33d",
   "metadata": {},
   "outputs": [
    {
     "data": {
      "image/png": "[encoded data removed]",
      "text/plain": [
       "<Figure size 432x288 with 1 Axes>"
      ]
     },
     "metadata": {
      "needs_background": "light"
     },
     "output_type": "display_data"
    }
   ],
   "source": [
    "#Create a histogram of the int_rate\n",
    "plt.title(\"Interest Rate Column Analysis\\n\", fontdict={'fontsize': 20, 'fontweight' : 5, 'color' : 'Green'})\n",
    "plt.xlabel(\"Interest Rate\", fontdict={'fontsize': 12, 'fontweight' : 5, 'color' : 'Brown'})\n",
    "plt.ylabel(\"Count\", fontdict={'fontsize': 12, 'fontweight' : 5, 'color' : 'Brown'})\n",
    "plt.hist(default_dataset_loan.int_rate)\n",
    "plt.show()"
   ]
  },
  {
   "cell_type": "code",
   "execution_count": 38,
   "id": "60bb791c",
   "metadata": {},
   "outputs": [
    {
     "data": {
      "image/png": "[encoded data removed]",
      "text/plain": [
       "<Figure size 432x288 with 1 Axes>"
      ]
     },
     "metadata": {
      "needs_background": "light"
     },
     "output_type": "display_data"
    }
   ],
   "source": [
    "#Plot a bar chart of purpose column\n",
    "plt.title(\"Purpose Column Analysis\\n\", fontdict={'fontsize': 20, 'fontweight' : 5, 'color' : 'Green'})\n",
    "plt.xlabel(\"Purpose\", fontdict={'fontsize': 12, 'fontweight' : 5, 'color' : 'Brown'})\n",
    "plt.ylabel(\"Count\", fontdict={'fontsize': 12, 'fontweight' : 5, 'color' : 'Brown'})\n",
    "default_dataset_loan['purpose'].value_counts().plot.bar()\n",
    "plt.show()"
   ]
  },
  {
   "cell_type": "code",
   "execution_count": 39,
   "id": "3c22d4b6",
   "metadata": {},
   "outputs": [
    {
     "data": {
      "image/png": "[encoded data removed]",
      "text/plain": [
       "<Figure size 432x288 with 1 Axes>"
      ]
     },
     "metadata": {
      "needs_background": "light"
     },
     "output_type": "display_data"
    }
   ],
   "source": [
    "#Plot a bar chart of verification_status\n",
    "plt.title(\"Verification Status Column Analysis\\n\", fontdict={'fontsize': 20, 'fontweight' : 5, 'color' : 'Green'})\n",
    "plt.xlabel(\"Verification Status\", fontdict={'fontsize': 12, 'fontweight' : 5, 'color' : 'Brown'})\n",
    "plt.ylabel(\"Count\", fontdict={'fontsize': 12, 'fontweight' : 5, 'color' : 'Brown'})\n",
    "default_dataset_loan['verification_status'].value_counts().plot.bar()\n",
    "plt.show()"
   ]
  },
  {
   "cell_type": "code",
   "execution_count": 40,
   "id": "e0504d67",
   "metadata": {},
   "outputs": [
    {
     "data": {
      "image/png": "[encoded data removed]",
      "text/plain": [
       "<Figure size 432x288 with 1 Axes>"
      ]
     },
     "metadata": {
      "needs_background": "light"
     },
     "output_type": "display_data"
    }
   ],
   "source": [
    "#Plot a bar chart of emp_length\n",
    "plt.title(\"Emp Length Column Analysis\\n\", fontdict={'fontsize': 20, 'fontweight' : 5, 'color' : 'Green'})\n",
    "plt.xlabel(\"Emp Length\", fontdict={'fontsize': 12, 'fontweight' : 5, 'color' : 'Brown'})\n",
    "plt.ylabel(\"Count\", fontdict={'fontsize': 12, 'fontweight' : 5, 'color' : 'Brown'})\n",
    "default_dataset_loan['emp_length'].value_counts().plot.bar()\n",
    "plt.show()"
   ]
  },
  {
   "cell_type": "code",
   "execution_count": 41,
   "id": "4e807fff",
   "metadata": {},
   "outputs": [
    {
     "data": {
      "image/png": "[encoded data removed]",
      "text/plain": [
       "<Figure size 432x288 with 1 Axes>"
      ]
     },
     "metadata": {
      "needs_background": "light"
     },
     "output_type": "display_data"
    }
   ],
   "source": [
    "#Create a histogram of the dti\n",
    "plt.title(\"DTI Column Analysis\\n\", fontdict={'fontsize': 20, 'fontweight' : 5, 'color' : 'Green'})\n",
    "plt.xlabel(\"DTI\", fontdict={'fontsize': 12, 'fontweight' : 5, 'color' : 'Brown'})\n",
    "plt.ylabel(\"Count\", fontdict={'fontsize': 12, 'fontweight' : 5, 'color' : 'Brown'})\n",
    "plt.hist(default_dataset_loan.dti)\n",
    "plt.show()"
   ]
  },
  {
   "cell_type": "code",
   "execution_count": 42,
   "id": "92f40275",
   "metadata": {},
   "outputs": [
    {
     "data": {
      "image/png": "[encoded data removed]",
      "text/plain": [
       "<Figure size 432x288 with 1 Axes>"
      ]
     },
     "metadata": {
      "needs_background": "light"
     },
     "output_type": "display_data"
    }
   ],
   "source": [
    "#Create a histogram of the collection_recovery_fee\n",
    "plt.title(\"Collection Recovery Fee Column Analysis\\n\", fontdict={'fontsize': 20, 'fontweight' : 5, 'color' : 'Green'})\n",
    "plt.xlabel(\"Collection Recovery Fee\", fontdict={'fontsize': 12, 'fontweight' : 5, 'color' : 'Brown'})\n",
    "plt.ylabel(\"Count\", fontdict={'fontsize': 12, 'fontweight' : 5, 'color' : 'Brown'})\n",
    "plt.hist(default_dataset_loan.collection_recovery_fee)\n",
    "plt.show()"
   ]
  },
  {
   "cell_type": "code",
   "execution_count": 43,
   "id": "6c6ba9bf",
   "metadata": {},
   "outputs": [
    {
     "data": {
      "image/png": "[encoded data removed]",
      "text/plain": [
       "<Figure size 432x288 with 1 Axes>"
      ]
     },
     "metadata": {},
     "output_type": "display_data"
    }
   ],
   "source": [
    "#Plot a pie chart\n",
    "plt.title(\"Grade Column Analysis\\n\", fontdict={'fontsize': 20, 'fontweight' : 5, 'color' : 'Green'})\n",
    "default_dataset_loan['grade'].value_counts().plot.pie()\n",
    "plt.show()"
   ]
  },
  {
   "cell_type": "markdown",
   "id": "8434a7ea",
   "metadata": {},
   "source": [
    "### Bivariate Analysis"
   ]
  },
  {
   "cell_type": "code",
   "execution_count": 44,
   "id": "269d5bdb",
   "metadata": {},
   "outputs": [
    {
     "data": {
      "text/plain": [
       "<AxesSubplot:title={'center':'Bivariate Analysis for Grade and Int Rate\\n'}, xlabel='grade', ylabel='Int Rate'>"
      ]
     },
     "execution_count": 44,
     "metadata": {},
     "output_type": "execute_result"
    },
    {
     "data": {
      "image/png": "[encoded data removed]",
      "text/plain": [
       "<Figure size 432x288 with 1 Axes>"
      ]
     },
     "metadata": {
      "needs_background": "light"
     },
     "output_type": "display_data"
    }
   ],
   "source": [
    "##Plot a bar plot of grade vs int_rate \n",
    "plt.title(\"Bivariate Analysis for Grade and Int Rate\\n\", fontdict={'fontsize': 20, 'fontweight' : 5, 'color' : 'Green'})\n",
    "plt.xlabel(\"Grade\", fontdict={'fontsize': 12, 'fontweight' : 5, 'color' : 'Brown'})\n",
    "plt.ylabel(\"Int Rate\", fontdict={'fontsize': 12, 'fontweight' : 5, 'color' : 'Brown'})\n",
    "default_dataset_loan.groupby(['grade'])['int_rate'].mean().plot.bar()"
   ]
  },
  {
   "cell_type": "code",
   "execution_count": 45,
   "id": "1eb5b0d7",
   "metadata": {},
   "outputs": [
    {
     "data": {
      "image/png": "[encoded data removed]",
      "text/plain": [
       "<Figure size 432x288 with 1 Axes>"
      ]
     },
     "metadata": {
      "needs_background": "light"
     },
     "output_type": "display_data"
    }
   ],
   "source": [
    "###Annual Income versus Funded Amount\n",
    "\n",
    "##Plot a scatter-plot in the matplotlib way between annual_inc and funded_amnt\n",
    "plt.title(\"Annual Income versus Funded Amount\\n\", fontdict={'fontsize': 20, 'fontweight' : 5, 'color' : 'Green'})\n",
    "plt.scatter(default_dataset_loan['annual_inc'], default_dataset_loan['funded_amnt'])\n",
    "plt.xlabel(\"Annual Income\", fontdict={'fontsize': 12, 'fontweight' : 5, 'color' : 'Brown'})\n",
    "plt.ylabel(\"Funded Amount\", fontdict={'fontsize': 12, 'fontweight' : 5, 'color' : 'Brown'})\n",
    "plt.show()"
   ]
  },
  {
   "cell_type": "code",
   "execution_count": 46,
   "id": "4a3cd0c6",
   "metadata": {},
   "outputs": [
    {
     "data": {
      "image/png": "[encoded data removed]",
      "text/plain": [
       "<Figure size 432x288 with 1 Axes>"
      ]
     },
     "metadata": {
      "needs_background": "light"
     },
     "output_type": "display_data"
    }
   ],
   "source": [
    "###Revol Util versus Annual Income\n",
    "\n",
    "##Plot a scatter-plot in the matplotlib way between revol_util and funded_amnt\n",
    "plt.title(\"Revol Util versus Annual Income\\n\", fontdict={'fontsize': 20, 'fontweight' : 5, 'color' : 'Green'})\n",
    "plt.scatter(default_dataset_loan['revol_util'], default_dataset_loan['annual_inc'])\n",
    "plt.xlabel(\"Revol Util\", fontdict={'fontsize': 12, 'fontweight' : 5, 'color' : 'Brown'})\n",
    "plt.ylabel(\"Annual Income\", fontdict={'fontsize': 12, 'fontweight' : 5, 'color' : 'Brown'})\n",
    "plt.show()"
   ]
  },
  {
   "cell_type": "markdown",
   "id": "fb67c90f",
   "metadata": {},
   "source": [
    "### Pivot Table"
   ]
  },
  {
   "cell_type": "code",
   "execution_count": 47,
   "id": "0637ecdf",
   "metadata": {},
   "outputs": [
    {
     "data": {
      "text/html": [
       "<div>\n",
       "<style scoped>\n",
       "    .dataframe tbody tr th:only-of-type {\n",
       "        vertical-align: middle;\n",
       "    }\n",
       "\n",
       "    .dataframe tbody tr th {\n",
       "        vertical-align: top;\n",
       "    }\n",
       "\n",
       "    .dataframe thead th {\n",
       "        text-align: right;\n",
       "    }\n",
       "</style>\n",
       "<table border=\"1\" class=\"dataframe\">\n",
       "  <thead>\n",
       "    <tr style=\"text-align: right;\">\n",
       "      <th></th>\n",
       "      <th>funded_amnt</th>\n",
       "      <th>int_rate</th>\n",
       "    </tr>\n",
       "    <tr>\n",
       "      <th>grade</th>\n",
       "      <th></th>\n",
       "      <th></th>\n",
       "    </tr>\n",
       "  </thead>\n",
       "  <tbody>\n",
       "    <tr>\n",
       "      <th>A</th>\n",
       "      <td>6775</td>\n",
       "      <td>7.51</td>\n",
       "    </tr>\n",
       "    <tr>\n",
       "      <th>B</th>\n",
       "      <td>8875</td>\n",
       "      <td>11.12</td>\n",
       "    </tr>\n",
       "    <tr>\n",
       "      <th>C</th>\n",
       "      <td>9000</td>\n",
       "      <td>13.49</td>\n",
       "    </tr>\n",
       "    <tr>\n",
       "      <th>D</th>\n",
       "      <td>10000</td>\n",
       "      <td>15.95</td>\n",
       "    </tr>\n",
       "    <tr>\n",
       "      <th>E</th>\n",
       "      <td>12425</td>\n",
       "      <td>17.56</td>\n",
       "    </tr>\n",
       "    <tr>\n",
       "      <th>F</th>\n",
       "      <td>15800</td>\n",
       "      <td>20.25</td>\n",
       "    </tr>\n",
       "    <tr>\n",
       "      <th>G</th>\n",
       "      <td>15000</td>\n",
       "      <td>20.90</td>\n",
       "    </tr>\n",
       "  </tbody>\n",
       "</table>\n",
       "</div>"
      ],
      "text/plain": [
       "       funded_amnt  int_rate\n",
       "grade                       \n",
       "A             6775      7.51\n",
       "B             8875     11.12\n",
       "C             9000     13.49\n",
       "D            10000     15.95\n",
       "E            12425     17.56\n",
       "F            15800     20.25\n",
       "G            15000     20.90"
      ]
     },
     "execution_count": 47,
     "metadata": {},
     "output_type": "execute_result"
    }
   ],
   "source": [
    "##grade vs int_rate vs funded_amnt\n",
    "\n",
    "pd.pivot_table(default_dataset_loan, values=['int_rate','funded_amnt'], index='grade', aggfunc=np.median)"
   ]
  },
  {
   "cell_type": "code",
   "execution_count": 48,
   "id": "06ab4790",
   "metadata": {},
   "outputs": [
    {
     "data": {
      "text/html": [
       "<div>\n",
       "<style scoped>\n",
       "    .dataframe tbody tr th:only-of-type {\n",
       "        vertical-align: middle;\n",
       "    }\n",
       "\n",
       "    .dataframe tbody tr th {\n",
       "        vertical-align: top;\n",
       "    }\n",
       "\n",
       "    .dataframe thead th {\n",
       "        text-align: right;\n",
       "    }\n",
       "</style>\n",
       "<table border=\"1\" class=\"dataframe\">\n",
       "  <thead>\n",
       "    <tr style=\"text-align: right;\">\n",
       "      <th></th>\n",
       "      <th>annual_inc</th>\n",
       "      <th>funded_amnt</th>\n",
       "    </tr>\n",
       "    <tr>\n",
       "      <th>emp_length</th>\n",
       "      <th></th>\n",
       "      <th></th>\n",
       "    </tr>\n",
       "  </thead>\n",
       "  <tbody>\n",
       "    <tr>\n",
       "      <th>0</th>\n",
       "      <td>45637.666344</td>\n",
       "      <td>9066.036907</td>\n",
       "    </tr>\n",
       "    <tr>\n",
       "      <th>1</th>\n",
       "      <td>48315.029002</td>\n",
       "      <td>9682.481752</td>\n",
       "    </tr>\n",
       "    <tr>\n",
       "      <th>10+</th>\n",
       "      <td>56063.112445</td>\n",
       "      <td>11829.735849</td>\n",
       "    </tr>\n",
       "    <tr>\n",
       "      <th>2</th>\n",
       "      <td>46823.825039</td>\n",
       "      <td>9550.639764</td>\n",
       "    </tr>\n",
       "    <tr>\n",
       "      <th>3</th>\n",
       "      <td>51026.266572</td>\n",
       "      <td>10003.296146</td>\n",
       "    </tr>\n",
       "    <tr>\n",
       "      <th>4</th>\n",
       "      <td>52793.951552</td>\n",
       "      <td>9995.874384</td>\n",
       "    </tr>\n",
       "    <tr>\n",
       "      <th>5</th>\n",
       "      <td>53689.444082</td>\n",
       "      <td>10797.831633</td>\n",
       "    </tr>\n",
       "    <tr>\n",
       "      <th>6</th>\n",
       "      <td>54894.516541</td>\n",
       "      <td>11000.281955</td>\n",
       "    </tr>\n",
       "    <tr>\n",
       "      <th>7</th>\n",
       "      <td>53358.249134</td>\n",
       "      <td>10912.987013</td>\n",
       "    </tr>\n",
       "    <tr>\n",
       "      <th>8</th>\n",
       "      <td>56821.177674</td>\n",
       "      <td>11779.505814</td>\n",
       "    </tr>\n",
       "    <tr>\n",
       "      <th>9</th>\n",
       "      <td>56600.640584</td>\n",
       "      <td>12023.175182</td>\n",
       "    </tr>\n",
       "  </tbody>\n",
       "</table>\n",
       "</div>"
      ],
      "text/plain": [
       "              annual_inc   funded_amnt\n",
       "emp_length                            \n",
       "0           45637.666344   9066.036907\n",
       "1           48315.029002   9682.481752\n",
       "10+         56063.112445  11829.735849\n",
       "2           46823.825039   9550.639764\n",
       "3           51026.266572  10003.296146\n",
       "4           52793.951552   9995.874384\n",
       "5           53689.444082  10797.831633\n",
       "6           54894.516541  11000.281955\n",
       "7           53358.249134  10912.987013\n",
       "8           56821.177674  11779.505814\n",
       "9           56600.640584  12023.175182"
      ]
     },
     "execution_count": 48,
     "metadata": {},
     "output_type": "execute_result"
    }
   ],
   "source": [
    "##emp_length vs annual_inc vs funded_amnt\n",
    "\n",
    "pd.pivot_table(default_dataset_loan, values=['annual_inc','funded_amnt'], index='emp_length', aggfunc=np.average)"
   ]
  },
  {
   "cell_type": "code",
   "execution_count": 49,
   "id": "750c0d19",
   "metadata": {},
   "outputs": [
    {
     "data": {
      "text/html": [
       "<div>\n",
       "<style scoped>\n",
       "    .dataframe tbody tr th:only-of-type {\n",
       "        vertical-align: middle;\n",
       "    }\n",
       "\n",
       "    .dataframe tbody tr th {\n",
       "        vertical-align: top;\n",
       "    }\n",
       "\n",
       "    .dataframe thead th {\n",
       "        text-align: right;\n",
       "    }\n",
       "</style>\n",
       "<table border=\"1\" class=\"dataframe\">\n",
       "  <thead>\n",
       "    <tr style=\"text-align: right;\">\n",
       "      <th></th>\n",
       "      <th>funded_amnt</th>\n",
       "      <th>term</th>\n",
       "    </tr>\n",
       "    <tr>\n",
       "      <th>purpose</th>\n",
       "      <th></th>\n",
       "      <th></th>\n",
       "    </tr>\n",
       "  </thead>\n",
       "  <tbody>\n",
       "    <tr>\n",
       "      <th>car</th>\n",
       "      <td>6000</td>\n",
       "      <td>36</td>\n",
       "    </tr>\n",
       "    <tr>\n",
       "      <th>credit_card</th>\n",
       "      <td>10000</td>\n",
       "      <td>36</td>\n",
       "    </tr>\n",
       "    <tr>\n",
       "      <th>debt_consolidation</th>\n",
       "      <td>11000</td>\n",
       "      <td>36</td>\n",
       "    </tr>\n",
       "    <tr>\n",
       "      <th>educational</th>\n",
       "      <td>6000</td>\n",
       "      <td>36</td>\n",
       "    </tr>\n",
       "    <tr>\n",
       "      <th>home_improvement</th>\n",
       "      <td>9250</td>\n",
       "      <td>36</td>\n",
       "    </tr>\n",
       "    <tr>\n",
       "      <th>house</th>\n",
       "      <td>9000</td>\n",
       "      <td>36</td>\n",
       "    </tr>\n",
       "    <tr>\n",
       "      <th>major_purchase</th>\n",
       "      <td>7000</td>\n",
       "      <td>36</td>\n",
       "    </tr>\n",
       "    <tr>\n",
       "      <th>medical</th>\n",
       "      <td>6000</td>\n",
       "      <td>36</td>\n",
       "    </tr>\n",
       "    <tr>\n",
       "      <th>moving</th>\n",
       "      <td>4350</td>\n",
       "      <td>36</td>\n",
       "    </tr>\n",
       "    <tr>\n",
       "      <th>other</th>\n",
       "      <td>5250</td>\n",
       "      <td>36</td>\n",
       "    </tr>\n",
       "    <tr>\n",
       "      <th>renewable_energy</th>\n",
       "      <td>4100</td>\n",
       "      <td>36</td>\n",
       "    </tr>\n",
       "    <tr>\n",
       "      <th>small_business</th>\n",
       "      <td>11625</td>\n",
       "      <td>36</td>\n",
       "    </tr>\n",
       "    <tr>\n",
       "      <th>vacation</th>\n",
       "      <td>4800</td>\n",
       "      <td>36</td>\n",
       "    </tr>\n",
       "    <tr>\n",
       "      <th>wedding</th>\n",
       "      <td>8400</td>\n",
       "      <td>36</td>\n",
       "    </tr>\n",
       "  </tbody>\n",
       "</table>\n",
       "</div>"
      ],
      "text/plain": [
       "                    funded_amnt  term\n",
       "purpose                              \n",
       "car                        6000    36\n",
       "credit_card               10000    36\n",
       "debt_consolidation        11000    36\n",
       "educational                6000    36\n",
       "home_improvement           9250    36\n",
       "house                      9000    36\n",
       "major_purchase             7000    36\n",
       "medical                    6000    36\n",
       "moving                     4350    36\n",
       "other                      5250    36\n",
       "renewable_energy           4100    36\n",
       "small_business            11625    36\n",
       "vacation                   4800    36\n",
       "wedding                    8400    36"
      ]
     },
     "execution_count": 49,
     "metadata": {},
     "output_type": "execute_result"
    }
   ],
   "source": [
    "##purpose vs term vs funded_amnt\n",
    "\n",
    "pd.pivot_table(default_dataset_loan, values=['term','funded_amnt'], index='purpose', aggfunc=np.median)"
   ]
  },
  {
   "cell_type": "markdown",
   "id": "4c14d3b0",
   "metadata": {},
   "source": [
    "### Driver Variables for default"
   ]
  },
  {
   "cell_type": "code",
   "execution_count": 50,
   "id": "5a040f2d",
   "metadata": {},
   "outputs": [],
   "source": [
    "##purpose vs int_rate vs revol_util\n",
    "ratio = pd.pivot_table(default_dataset_loan, values=['int_rate','revol_util'], index='purpose', aggfunc=np.median)"
   ]
  },
  {
   "cell_type": "code",
   "execution_count": 51,
   "id": "34b1ba50",
   "metadata": {},
   "outputs": [
    {
     "data": {
      "image/png": "[encoded data removed]",
      "text/plain": [
       "<Figure size 720x360 with 1 Axes>"
      ]
     },
     "metadata": {
      "needs_background": "light"
     },
     "output_type": "display_data"
    }
   ],
   "source": [
    "ratio.plot(kind=\"bar\", stacked=\"True\", figsize=[10,5])\n",
    "plt.show()"
   ]
  },
  {
   "cell_type": "code",
   "execution_count": 52,
   "id": "5f2a8638",
   "metadata": {},
   "outputs": [],
   "source": [
    "#Create new column for monthly income\n",
    "default_dataset_loan['monthly_income'] = default_dataset_loan['annual_inc'] / 12"
   ]
  },
  {
   "cell_type": "code",
   "execution_count": 53,
   "id": "139a0e3e",
   "metadata": {},
   "outputs": [],
   "source": [
    "monthly = pd.pivot_table(default_dataset_loan, values=['installment','monthly_income'], index='emp_length', columns=\"home_ownership\", aggfunc=np.median)"
   ]
  },
  {
   "cell_type": "code",
   "execution_count": 54,
   "id": "f91718b0",
   "metadata": {},
   "outputs": [
    {
     "data": {
      "image/png": "[encoded data removed]",
      "text/plain": [
       "<Figure size 1080x576 with 1 Axes>"
      ]
     },
     "metadata": {
      "needs_background": "light"
     },
     "output_type": "display_data"
    }
   ],
   "source": [
    "monthly.plot(kind=\"bar\", stacked=\"True\", figsize=[15,8])\n",
    "plt.show()"
   ]
  },
  {
   "cell_type": "code",
   "execution_count": 55,
   "id": "9debf94c",
   "metadata": {},
   "outputs": [],
   "source": [
    "##annual_inc vs funded_amnt vs emp_length vs verification_status\n",
    "\n",
    "amount = pd.pivot_table(default_dataset_loan, values=['annual_inc','funded_amnt'], index='emp_length', columns=\"verification_status\", aggfunc=np.median)"
   ]
  },
  {
   "cell_type": "code",
   "execution_count": 56,
   "id": "13ba96d9",
   "metadata": {},
   "outputs": [
    {
     "data": {
      "image/png": "[encoded data removed]",
      "text/plain": [
       "<Figure size 1080x576 with 1 Axes>"
      ]
     },
     "metadata": {
      "needs_background": "light"
     },
     "output_type": "display_data"
    }
   ],
   "source": [
    "amount.plot(kind=\"bar\", stacked=\"True\", figsize=[15,8])\n",
    "plt.show()"
   ]
  },
  {
   "cell_type": "code",
   "execution_count": 57,
   "id": "2e0ab495",
   "metadata": {},
   "outputs": [],
   "source": [
    "###create new column for payment_due based on the funded_amnt and total_pymnt\n",
    "\n",
    "default_dataset_loan['payment_due'] = default_dataset_loan['funded_amnt'] - default_dataset_loan['total_pymnt']"
   ]
  },
  {
   "cell_type": "code",
   "execution_count": 58,
   "id": "1596698d",
   "metadata": {},
   "outputs": [],
   "source": [
    "payment = pd.pivot_table(default_dataset_loan, values=['funded_amnt','payment_due','total_pymnt'], index='grade', aggfunc=np.average)"
   ]
  },
  {
   "cell_type": "code",
   "execution_count": 59,
   "id": "1bcc2655",
   "metadata": {},
   "outputs": [
    {
     "data": {
      "image/png": "[encoded data removed]",
      "text/plain": [
       "<Figure size 1080x576 with 1 Axes>"
      ]
     },
     "metadata": {
      "needs_background": "light"
     },
     "output_type": "display_data"
    }
   ],
   "source": [
    "payment.plot(kind=\"bar\", stacked=\"True\", figsize=[15,8])\n",
    "plt.show()"
   ]
  },
  {
   "cell_type": "markdown",
   "id": "9a187388",
   "metadata": {},
   "source": [
    "## For Non Default"
   ]
  },
  {
   "cell_type": "code",
   "execution_count": 60,
   "id": "1b01b77b",
   "metadata": {
    "scrolled": false
   },
   "outputs": [
    {
     "data": {
      "image/png": "[encoded data removed]",
      "text/plain": [
       "<Figure size 432x288 with 1 Axes>"
      ]
     },
     "metadata": {
      "needs_background": "light"
     },
     "output_type": "display_data"
    }
   ],
   "source": [
    "#Create a box plot for non-default data funded_amnt column\n",
    "plt.boxplot(non_default_dataset_loan.funded_amnt)\n",
    "plt.show()"
   ]
  },
  {
   "cell_type": "code",
   "execution_count": 61,
   "id": "aa09b866",
   "metadata": {},
   "outputs": [
    {
     "data": {
      "text/plain": [
       "count    32865.000000\n",
       "mean     10632.604595\n",
       "std       6957.146690\n",
       "min        500.000000\n",
       "25%       5125.000000\n",
       "50%       9250.000000\n",
       "75%      14525.000000\n",
       "max      35000.000000\n",
       "Name: funded_amnt, dtype: float64"
      ]
     },
     "execution_count": 61,
     "metadata": {},
     "output_type": "execute_result"
    }
   ],
   "source": [
    "non_default_dataset_loan.funded_amnt.describe()"
   ]
  },
  {
   "cell_type": "code",
   "execution_count": 62,
   "id": "ae681d37",
   "metadata": {},
   "outputs": [
    {
     "data": {
      "text/html": [
       "<div>\n",
       "<style scoped>\n",
       "    .dataframe tbody tr th:only-of-type {\n",
       "        vertical-align: middle;\n",
       "    }\n",
       "\n",
       "    .dataframe tbody tr th {\n",
       "        vertical-align: top;\n",
       "    }\n",
       "\n",
       "    .dataframe thead th {\n",
       "        text-align: right;\n",
       "    }\n",
       "</style>\n",
       "<table border=\"1\" class=\"dataframe\">\n",
       "  <thead>\n",
       "    <tr style=\"text-align: right;\">\n",
       "      <th></th>\n",
       "      <th>loan_amnt</th>\n",
       "      <th>funded_amnt</th>\n",
       "      <th>funded_amnt_inv</th>\n",
       "      <th>term</th>\n",
       "      <th>int_rate</th>\n",
       "      <th>installment</th>\n",
       "      <th>grade</th>\n",
       "      <th>sub_grade</th>\n",
       "      <th>emp_length</th>\n",
       "      <th>home_ownership</th>\n",
       "      <th>...</th>\n",
       "      <th>total_rec_prncp</th>\n",
       "      <th>total_rec_int</th>\n",
       "      <th>total_rec_late_fee</th>\n",
       "      <th>recoveries</th>\n",
       "      <th>collection_recovery_fee</th>\n",
       "      <th>last_pymnt_d</th>\n",
       "      <th>last_pymnt_amnt</th>\n",
       "      <th>last_credit_pull_d</th>\n",
       "      <th>pub_rec_bankruptcies</th>\n",
       "      <th>tax_liens</th>\n",
       "    </tr>\n",
       "  </thead>\n",
       "  <tbody>\n",
       "    <tr>\n",
       "      <th>30</th>\n",
       "      <td>31825</td>\n",
       "      <td>31825</td>\n",
       "      <td>31825.00000</td>\n",
       "      <td>36</td>\n",
       "      <td>7.90</td>\n",
       "      <td>995.82</td>\n",
       "      <td>A</td>\n",
       "      <td>A4</td>\n",
       "      <td>5</td>\n",
       "      <td>MORTGAGE</td>\n",
       "      <td>...</td>\n",
       "      <td>31825.00</td>\n",
       "      <td>3061.91</td>\n",
       "      <td>0.0</td>\n",
       "      <td>0.0</td>\n",
       "      <td>0.0</td>\n",
       "      <td>Aug-13</td>\n",
       "      <td>16966.70</td>\n",
       "      <td>Feb-16</td>\n",
       "      <td>0.0</td>\n",
       "      <td>0.0</td>\n",
       "    </tr>\n",
       "    <tr>\n",
       "      <th>127</th>\n",
       "      <td>35000</td>\n",
       "      <td>35000</td>\n",
       "      <td>35000.00000</td>\n",
       "      <td>36</td>\n",
       "      <td>8.90</td>\n",
       "      <td>1111.37</td>\n",
       "      <td>A</td>\n",
       "      <td>A5</td>\n",
       "      <td>6</td>\n",
       "      <td>MORTGAGE</td>\n",
       "      <td>...</td>\n",
       "      <td>35000.00</td>\n",
       "      <td>5009.01</td>\n",
       "      <td>0.0</td>\n",
       "      <td>0.0</td>\n",
       "      <td>0.0</td>\n",
       "      <td>Jan-15</td>\n",
       "      <td>1123.85</td>\n",
       "      <td>Mar-16</td>\n",
       "      <td>0.0</td>\n",
       "      <td>0.0</td>\n",
       "    </tr>\n",
       "    <tr>\n",
       "      <th>184</th>\n",
       "      <td>35000</td>\n",
       "      <td>35000</td>\n",
       "      <td>35000.00000</td>\n",
       "      <td>36</td>\n",
       "      <td>10.65</td>\n",
       "      <td>1140.07</td>\n",
       "      <td>B</td>\n",
       "      <td>B2</td>\n",
       "      <td>2</td>\n",
       "      <td>MORTGAGE</td>\n",
       "      <td>...</td>\n",
       "      <td>35000.00</td>\n",
       "      <td>3061.50</td>\n",
       "      <td>0.0</td>\n",
       "      <td>0.0</td>\n",
       "      <td>0.0</td>\n",
       "      <td>Oct-13</td>\n",
       "      <td>272.59</td>\n",
       "      <td>Sep-13</td>\n",
       "      <td>0.0</td>\n",
       "      <td>0.0</td>\n",
       "    </tr>\n",
       "    <tr>\n",
       "      <th>192</th>\n",
       "      <td>28000</td>\n",
       "      <td>28000</td>\n",
       "      <td>27975.00000</td>\n",
       "      <td>60</td>\n",
       "      <td>17.58</td>\n",
       "      <td>704.64</td>\n",
       "      <td>D</td>\n",
       "      <td>D4</td>\n",
       "      <td>5</td>\n",
       "      <td>MORTGAGE</td>\n",
       "      <td>...</td>\n",
       "      <td>28000.00</td>\n",
       "      <td>411.15</td>\n",
       "      <td>0.0</td>\n",
       "      <td>0.0</td>\n",
       "      <td>0.0</td>\n",
       "      <td>Jan-12</td>\n",
       "      <td>28412.43</td>\n",
       "      <td>Jan-12</td>\n",
       "      <td>0.0</td>\n",
       "      <td>0.0</td>\n",
       "    </tr>\n",
       "    <tr>\n",
       "      <th>208</th>\n",
       "      <td>29500</td>\n",
       "      <td>29500</td>\n",
       "      <td>28513.45925</td>\n",
       "      <td>60</td>\n",
       "      <td>20.30</td>\n",
       "      <td>786.51</td>\n",
       "      <td>E</td>\n",
       "      <td>E5</td>\n",
       "      <td>6</td>\n",
       "      <td>MORTGAGE</td>\n",
       "      <td>...</td>\n",
       "      <td>29500.00</td>\n",
       "      <td>16255.23</td>\n",
       "      <td>0.0</td>\n",
       "      <td>0.0</td>\n",
       "      <td>0.0</td>\n",
       "      <td>Oct-15</td>\n",
       "      <td>9781.44</td>\n",
       "      <td>May-16</td>\n",
       "      <td>0.0</td>\n",
       "      <td>0.0</td>\n",
       "    </tr>\n",
       "    <tr>\n",
       "      <th>...</th>\n",
       "      <td>...</td>\n",
       "      <td>...</td>\n",
       "      <td>...</td>\n",
       "      <td>...</td>\n",
       "      <td>...</td>\n",
       "      <td>...</td>\n",
       "      <td>...</td>\n",
       "      <td>...</td>\n",
       "      <td>...</td>\n",
       "      <td>...</td>\n",
       "      <td>...</td>\n",
       "      <td>...</td>\n",
       "      <td>...</td>\n",
       "      <td>...</td>\n",
       "      <td>...</td>\n",
       "      <td>...</td>\n",
       "      <td>...</td>\n",
       "      <td>...</td>\n",
       "      <td>...</td>\n",
       "      <td>...</td>\n",
       "      <td>...</td>\n",
       "    </tr>\n",
       "    <tr>\n",
       "      <th>19754</th>\n",
       "      <td>32000</td>\n",
       "      <td>32000</td>\n",
       "      <td>31684.89912</td>\n",
       "      <td>60</td>\n",
       "      <td>20.85</td>\n",
       "      <td>863.01</td>\n",
       "      <td>G</td>\n",
       "      <td>G3</td>\n",
       "      <td>5</td>\n",
       "      <td>RENT</td>\n",
       "      <td>...</td>\n",
       "      <td>32000.01</td>\n",
       "      <td>12455.79</td>\n",
       "      <td>0.0</td>\n",
       "      <td>0.0</td>\n",
       "      <td>0.0</td>\n",
       "      <td>Apr-13</td>\n",
       "      <td>22899.00</td>\n",
       "      <td>Apr-13</td>\n",
       "      <td>0.0</td>\n",
       "      <td>0.0</td>\n",
       "    </tr>\n",
       "    <tr>\n",
       "      <th>19765</th>\n",
       "      <td>32000</td>\n",
       "      <td>32000</td>\n",
       "      <td>31569.14450</td>\n",
       "      <td>60</td>\n",
       "      <td>19.74</td>\n",
       "      <td>843.19</td>\n",
       "      <td>F</td>\n",
       "      <td>F5</td>\n",
       "      <td>8</td>\n",
       "      <td>RENT</td>\n",
       "      <td>...</td>\n",
       "      <td>31961.81</td>\n",
       "      <td>18551.71</td>\n",
       "      <td>0.0</td>\n",
       "      <td>0.0</td>\n",
       "      <td>0.0</td>\n",
       "      <td>Feb-16</td>\n",
       "      <td>842.34</td>\n",
       "      <td>May-16</td>\n",
       "      <td>1.0</td>\n",
       "      <td>0.0</td>\n",
       "    </tr>\n",
       "    <tr>\n",
       "      <th>19779</th>\n",
       "      <td>30000</td>\n",
       "      <td>30000</td>\n",
       "      <td>29094.62328</td>\n",
       "      <td>60</td>\n",
       "      <td>16.40</td>\n",
       "      <td>735.94</td>\n",
       "      <td>E</td>\n",
       "      <td>E1</td>\n",
       "      <td>6</td>\n",
       "      <td>MORTGAGE</td>\n",
       "      <td>...</td>\n",
       "      <td>30000.00</td>\n",
       "      <td>6942.91</td>\n",
       "      <td>0.0</td>\n",
       "      <td>0.0</td>\n",
       "      <td>0.0</td>\n",
       "      <td>Feb-13</td>\n",
       "      <td>11730.77</td>\n",
       "      <td>Apr-16</td>\n",
       "      <td>0.0</td>\n",
       "      <td>0.0</td>\n",
       "    </tr>\n",
       "    <tr>\n",
       "      <th>19792</th>\n",
       "      <td>30000</td>\n",
       "      <td>30000</td>\n",
       "      <td>30000.00000</td>\n",
       "      <td>60</td>\n",
       "      <td>17.88</td>\n",
       "      <td>759.85</td>\n",
       "      <td>E</td>\n",
       "      <td>E5</td>\n",
       "      <td>10+</td>\n",
       "      <td>MORTGAGE</td>\n",
       "      <td>...</td>\n",
       "      <td>29999.99</td>\n",
       "      <td>15590.60</td>\n",
       "      <td>0.0</td>\n",
       "      <td>0.0</td>\n",
       "      <td>0.0</td>\n",
       "      <td>Feb-16</td>\n",
       "      <td>759.45</td>\n",
       "      <td>Apr-16</td>\n",
       "      <td>0.0</td>\n",
       "      <td>0.0</td>\n",
       "    </tr>\n",
       "    <tr>\n",
       "      <th>19811</th>\n",
       "      <td>35000</td>\n",
       "      <td>35000</td>\n",
       "      <td>34682.59813</td>\n",
       "      <td>60</td>\n",
       "      <td>20.48</td>\n",
       "      <td>936.66</td>\n",
       "      <td>G</td>\n",
       "      <td>G2</td>\n",
       "      <td>2</td>\n",
       "      <td>MORTGAGE</td>\n",
       "      <td>...</td>\n",
       "      <td>35000.00</td>\n",
       "      <td>18493.50</td>\n",
       "      <td>0.0</td>\n",
       "      <td>0.0</td>\n",
       "      <td>0.0</td>\n",
       "      <td>Jul-14</td>\n",
       "      <td>16081.24</td>\n",
       "      <td>Jul-14</td>\n",
       "      <td>0.0</td>\n",
       "      <td>0.0</td>\n",
       "    </tr>\n",
       "  </tbody>\n",
       "</table>\n",
       "<p>903 rows × 34 columns</p>\n",
       "</div>"
      ],
      "text/plain": [
       "       loan_amnt  funded_amnt  funded_amnt_inv  term  int_rate  installment  \\\n",
       "30         31825        31825      31825.00000    36      7.90       995.82   \n",
       "127        35000        35000      35000.00000    36      8.90      1111.37   \n",
       "184        35000        35000      35000.00000    36     10.65      1140.07   \n",
       "192        28000        28000      27975.00000    60     17.58       704.64   \n",
       "208        29500        29500      28513.45925    60     20.30       786.51   \n",
       "...          ...          ...              ...   ...       ...          ...   \n",
       "19754      32000        32000      31684.89912    60     20.85       863.01   \n",
       "19765      32000        32000      31569.14450    60     19.74       843.19   \n",
       "19779      30000        30000      29094.62328    60     16.40       735.94   \n",
       "19792      30000        30000      30000.00000    60     17.88       759.85   \n",
       "19811      35000        35000      34682.59813    60     20.48       936.66   \n",
       "\n",
       "      grade sub_grade emp_length home_ownership  ...  total_rec_prncp  \\\n",
       "30        A        A4          5       MORTGAGE  ...         31825.00   \n",
       "127       A        A5          6       MORTGAGE  ...         35000.00   \n",
       "184       B        B2          2       MORTGAGE  ...         35000.00   \n",
       "192       D        D4          5       MORTGAGE  ...         28000.00   \n",
       "208       E        E5          6       MORTGAGE  ...         29500.00   \n",
       "...     ...       ...        ...            ...  ...              ...   \n",
       "19754     G        G3          5           RENT  ...         32000.01   \n",
       "19765     F        F5          8           RENT  ...         31961.81   \n",
       "19779     E        E1          6       MORTGAGE  ...         30000.00   \n",
       "19792     E        E5        10+       MORTGAGE  ...         29999.99   \n",
       "19811     G        G2          2       MORTGAGE  ...         35000.00   \n",
       "\n",
       "      total_rec_int total_rec_late_fee recoveries collection_recovery_fee  \\\n",
       "30          3061.91                0.0        0.0                     0.0   \n",
       "127         5009.01                0.0        0.0                     0.0   \n",
       "184         3061.50                0.0        0.0                     0.0   \n",
       "192          411.15                0.0        0.0                     0.0   \n",
       "208        16255.23                0.0        0.0                     0.0   \n",
       "...             ...                ...        ...                     ...   \n",
       "19754      12455.79                0.0        0.0                     0.0   \n",
       "19765      18551.71                0.0        0.0                     0.0   \n",
       "19779       6942.91                0.0        0.0                     0.0   \n",
       "19792      15590.60                0.0        0.0                     0.0   \n",
       "19811      18493.50                0.0        0.0                     0.0   \n",
       "\n",
       "       last_pymnt_d  last_pymnt_amnt last_credit_pull_d  pub_rec_bankruptcies  \\\n",
       "30           Aug-13         16966.70             Feb-16                   0.0   \n",
       "127          Jan-15          1123.85             Mar-16                   0.0   \n",
       "184          Oct-13           272.59             Sep-13                   0.0   \n",
       "192          Jan-12         28412.43             Jan-12                   0.0   \n",
       "208          Oct-15          9781.44             May-16                   0.0   \n",
       "...             ...              ...                ...                   ...   \n",
       "19754        Apr-13         22899.00             Apr-13                   0.0   \n",
       "19765        Feb-16           842.34             May-16                   1.0   \n",
       "19779        Feb-13         11730.77             Apr-16                   0.0   \n",
       "19792        Feb-16           759.45             Apr-16                   0.0   \n",
       "19811        Jul-14         16081.24             Jul-14                   0.0   \n",
       "\n",
       "       tax_liens  \n",
       "30           0.0  \n",
       "127          0.0  \n",
       "184          0.0  \n",
       "192          0.0  \n",
       "208          0.0  \n",
       "...          ...  \n",
       "19754        0.0  \n",
       "19765        0.0  \n",
       "19779        0.0  \n",
       "19792        0.0  \n",
       "19811        0.0  \n",
       "\n",
       "[903 rows x 34 columns]"
      ]
     },
     "execution_count": 62,
     "metadata": {},
     "output_type": "execute_result"
    }
   ],
   "source": [
    "#Check the funded_amnt with more than 27000\n",
    "non_default_dataset_loan[non_default_dataset_loan.funded_amnt > 27000]"
   ]
  },
  {
   "cell_type": "code",
   "execution_count": 63,
   "id": "99bd6dd2",
   "metadata": {},
   "outputs": [],
   "source": [
    "#Clean the funded_amnt column for non-default\n",
    "non_default_dataset_loan = non_default_dataset_loan[non_default_dataset_loan.funded_amnt < 27000]"
   ]
  }
 ],
 "metadata": {
  "kernelspec": {
   "display_name": "Python 3 (ipykernel)",
   "language": "python",
   "name": "python3"
  },
  "language_info": {
   "codemirror_mode": {
    "name": "ipython",
    "version": 3
   },
   "file_extension": ".py",
   "mimetype": "text/x-python",
   "name": "python",
   "nbconvert_exporter": "python",
   "pygments_lexer": "ipython3",
   "version": "3.9.7"
  }
 },
 "nbformat": 4,
 "nbformat_minor": 5
}
